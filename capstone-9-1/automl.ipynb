{
  "cells": [
    {
      "cell_type": "markdown",
      "source": [
        "# Automated ML\n",
        "\n",
        "TODO: Import Dependencies. In the cell below, import all the dependencies that you will need to complete the project."
      ],
      "metadata": {}
    },
    {
      "cell_type": "code",
      "source": [
        "import pandas as pd\n",
        "import numpy as np\n",
        "from sklearn import datasets\n",
        "import pkg_resources\n",
        "import azureml.core\n",
        "from azureml.widgets import RunDetails\n",
        "from azureml.core.compute import AmlCompute, ComputeTarget\n",
        "from azureml.core.compute_target import ComputeTargetException\n",
        "from azureml.core.experiment import Experiment\n",
        "from azureml.core.workspace import Workspace\n",
        "from azureml.train.automl import AutoMLConfig\n",
        "from azureml.core.dataset import Dataset\n",
        "from azureml.core.datastore import Datastore\n",
        "from azureml.pipeline.steps import AutoMLStep\n",
        "from azureml.core.model import Model, InferenceConfig\n",
        "from azureml.core.resource_configuration import ResourceConfiguration\n",
        "from azureml.core import Environment\n",
        "from azureml.core.webservice import AciWebservice\n",
        "import requests\n",
        "import json\n",
        "\n",
        "print(\"SDK version:\", azureml.core.VERSION)"
      ],
      "outputs": [
        {
          "output_type": "stream",
          "name": "stdout",
          "text": "SDK version: 1.51.0\n"
        }
      ],
      "execution_count": 9,
      "metadata": {
        "gather": {
          "logged": 1693587351976
        },
        "jupyter": {
          "outputs_hidden": false,
          "source_hidden": false
        },
        "nteract": {
          "transient": {
            "deleting": false
          }
        }
      }
    },
    {
      "cell_type": "code",
      "source": [
        "pip show azureml-widgets"
      ],
      "outputs": [
        {
          "output_type": "stream",
          "name": "stdout",
          "text": "Name: azureml-widgets\r\nVersion: 1.51.0\r\nSummary: Provides fully supported, with interactivity, async auto-updates, and non-blocking cell execution.\r\nHome-page: https://docs.microsoft.com/python/api/overview/azure/ml/?view=azure-ml-py\r\nAuthor: Microsoft Corp\r\nAuthor-email: None\r\nLicense: https://aka.ms/azureml-sdk-license\r\nLocation: /anaconda/envs/azureml_py38/lib/python3.8/site-packages\r\nRequires: azureml-core, jinja2, ipywidgets, azure-storage-blob, azureml-telemetry\r\nRequired-by: \r\nNote: you may need to restart the kernel to use updated packages.\n"
        }
      ],
      "execution_count": 10,
      "metadata": {
        "gather": {
          "logged": 1693587355489
        }
      }
    },
    {
      "cell_type": "markdown",
      "source": [
        "## Dataset\n",
        "\n",
        "### Overview\n",
        "TODO: In this markdown cell, give an overview of the dataset you are using. Also mention the task you will be performing.\n",
        "\n",
        "\n",
        "TODO: Get data. In the cell below, write code to access the data you will be using in this project. Remember that the dataset needs to be external."
      ],
      "metadata": {}
    },
    {
      "cell_type": "code",
      "source": [
        "myenv = Environment(name = \"myenv\")"
      ],
      "outputs": [],
      "execution_count": 11,
      "metadata": {
        "gather": {
          "logged": 1693587356227
        }
      }
    },
    {
      "cell_type": "code",
      "source": [
        "ws = Workspace.from_config()\n",
        "myenv.register(workspace=ws)\n",
        "\n",
        "# choose a name for experiment\n",
        "experiment_name = 'maternal-health-automl-exp'\n",
        "\n",
        "experiment=Experiment(ws, experiment_name)"
      ],
      "outputs": [],
      "execution_count": 12,
      "metadata": {
        "gather": {
          "logged": 1693587357321
        },
        "jupyter": {
          "outputs_hidden": false,
          "source_hidden": false
        },
        "nteract": {
          "transient": {
            "deleting": false
          }
        }
      }
    },
    {
      "cell_type": "code",
      "source": [
        "dataset = Dataset.get_by_name(ws, name='maternal-health-risk')\n",
        "df = dataset.to_pandas_dataframe()"
      ],
      "outputs": [],
      "execution_count": 13,
      "metadata": {
        "gather": {
          "logged": 1693587359322
        }
      }
    },
    {
      "cell_type": "markdown",
      "source": [
        "## AutoML Configuration\n",
        "\n",
        "TODO: Explain why you chose the automl settings and cofiguration you used below."
      ],
      "metadata": {}
    },
    {
      "cell_type": "code",
      "source": [
        "# TODO: Put your automl settings here\n",
        "automl_settings = { \"experiment_timeout_minutes\": 30,\n",
        "                    \"max_concurrent_iterations\": 5,\n",
        "                    \"primary_metric\" : 'accuracy'}\n",
        "\n",
        "# TODO: Put your automl config here\n",
        "automl_config = AutoMLConfig(\n",
        "                             task = \"classification\",\n",
        "                             training_data=df,\n",
        "                             label_column_name=\"Outcome\",  \n",
        "                             enable_early_stopping= True,\n",
        "                             featurization= 'auto',\n",
        "                             debug_log = \"automl_errors.log\",\n",
        "                             **automl_settings\n",
        "                            )"
      ],
      "outputs": [],
      "execution_count": 14,
      "metadata": {
        "gather": {
          "logged": 1693587360020
        },
        "jupyter": {
          "outputs_hidden": false,
          "source_hidden": false
        },
        "nteract": {
          "transient": {
            "deleting": false
          }
        }
      }
    },
    {
      "cell_type": "code",
      "source": [
        "# TODO: Submit your experiment\n",
        "from azureml.train.automl.run import AutoMLRun\n",
        "remote_run = AutoMLRun(experiment = experiment, run_id = 'AutoML_9d4ad407-d089-41e7-85f1-fc88df4ab866')"
      ],
      "outputs": [],
      "execution_count": 15,
      "metadata": {
        "gather": {
          "logged": 1693587360822
        },
        "jupyter": {
          "outputs_hidden": false,
          "source_hidden": false
        },
        "nteract": {
          "transient": {
            "deleting": false
          }
        }
      }
    },
    {
      "cell_type": "markdown",
      "source": [
        "## Run Details\n",
        "\n",
        "OPTIONAL: Write about the different models trained and their performance. Why do you think some models did better than others?\n",
        "\n",
        "TODO: In the cell below, use the `RunDetails` widget to show the different experiments."
      ],
      "metadata": {}
    },
    {
      "cell_type": "code",
      "source": [
        "print(remote_run.get_file_names())"
      ],
      "outputs": [
        {
          "output_type": "stream",
          "name": "stdout",
          "text": "['automl_driver.py', 'definition.json', 'definition_original.json', 'outputs/_automl_internal/ExperimentData_lazy.pkl', 'outputs/_automl_internal/ExperimentData_materialized.pkl', 'outputs/_automl_internal/ExperimentData_partitioned.pkl', 'outputs/_automl_internal/ExperimentMetadata.pkl', 'outputs/_automl_internal/ExperimentMetadata_Classification.pkl', 'outputs/_automl_internal/ExperimentMetadata_Regression.pkl', 'outputs/_automl_internal/ExperimentMetadata_Timeseries.pkl', 'outputs/_automl_internal/X_raw.df.parquet', 'outputs/_automl_internal/X_raw_valid.pkl', 'outputs/_automl_internal/_CACHE_STORE_KEY_ONNX_CONVERTER_INIT_METADATA_.pkl', 'outputs/_automl_internal/featurized_cv_split_0.pkl', 'outputs/_automl_internal/featurized_cv_split_1.pkl', 'outputs/_automl_internal/featurized_cv_split_2.pkl', 'outputs/_automl_internal/indices/5ed119290528408d82cbf5f6153e003e.json', 'outputs/_automl_internal/indices/861553f469944289acaa5cf0d54c7d94.json', 'outputs/_automl_internal/split_keys.pkl', 'outputs/_automl_internal/y_raw.npys.parquet', 'outputs/_automl_internal/y_raw_valid.pkl', 'outputs/featurization/data/X.coo.parquet', 'outputs/featurization/data/X_valid.pkl', 'outputs/featurization/data/sample_weight.pkl', 'outputs/featurization/data/sample_weight_valid.pkl', 'outputs/featurization/data/y.npys.parquet', 'outputs/featurization/data/y_valid.pkl', 'outputs/featurization/pipeline/MLmodel', 'outputs/featurization/pipeline/conda.yaml', 'outputs/featurization/pipeline/model.pkl', 'outputs/featurization/pipeline/python_env.yaml', 'outputs/featurization/pipeline/requirements.txt', 'outputs/verifier_results.json']\n"
        }
      ],
      "execution_count": 16,
      "metadata": {
        "gather": {
          "logged": 1693587361501
        }
      }
    },
    {
      "cell_type": "code",
      "source": [
        "print(azureml.core.VERSION)"
      ],
      "outputs": [
        {
          "output_type": "stream",
          "name": "stdout",
          "text": "1.51.0\n"
        }
      ],
      "execution_count": 17,
      "metadata": {
        "gather": {
          "logged": 1693587362299
        }
      }
    },
    {
      "cell_type": "code",
      "source": [
        "from azureml.widgets import RunDetails\n",
        "RunDetails(remote_run).show()"
      ],
      "outputs": [
        {
          "output_type": "display_data",
          "data": {
            "text/plain": "_AutoMLWidget(widget_settings={'childWidgetDisplay': 'popup', 'send_telemetry': False, 'log_level': 'INFO', 's…",
            "application/vnd.jupyter.widget-view+json": {
              "version_major": 2,
              "version_minor": 0,
              "model_id": "0c05615474564c0499fef4ef85dcb5ba"
            }
          },
          "metadata": {}
        },
        {
          "output_type": "display_data",
          "data": {
            "application/aml.mini.widget.v1": "{\"status\": \"Completed\", \"workbench_run_details_uri\": \"https://ml.azure.com/runs/AutoML_9d4ad407-d089-41e7-85f1-fc88df4ab866?wsid=/subscriptions/d4ad7261-832d-46b2-b093-22156001df5b/resourcegroups/aml-quickstarts-240923/workspaces/quick-starts-ws-240923&tid=660b3398-b80e-49d2-bc5b-ac1dc93b5254\", \"run_id\": \"AutoML_9d4ad407-d089-41e7-85f1-fc88df4ab866\", \"run_properties\": {\"run_id\": \"AutoML_9d4ad407-d089-41e7-85f1-fc88df4ab866\", \"created_utc\": \"2023-09-01T14:55:11.825834Z\", \"properties\": {\"num_iterations\": \"1000\", \"training_type\": \"TrainFull\", \"acquisition_function\": \"EI\", \"primary_metric\": \"AUC_weighted\", \"train_split\": \"0\", \"acquisition_parameter\": \"0\", \"num_cross_validation\": null, \"target\": \"notebook240923\", \"AMLSettingsJsonString\": \"{\\\"enable_early_stopping\\\":true,\\\"enable_ensembling\\\":true,\\\"enable_stack_ensembling\\\":true,\\\"ensemble_iterations\\\":15,\\\"enable_onnx_compatible_models\\\":false,\\\"save_mlflow\\\":true,\\\"max_cores_per_iteration\\\":-1,\\\"send_telemetry\\\":true,\\\"blacklist_algos\\\":[\\\"TensorFlowLinearClassifier\\\",\\\"TensorFlowDNN\\\"],\\\"whitelist_models\\\":null,\\\"compute_target\\\":\\\"notebook240923\\\",\\\"enable_dnn\\\":false,\\\"enable_code_generation\\\":true,\\\"experiment_exit_score\\\":null,\\\"experiment_timeout_minutes\\\":30,\\\"featurization\\\":\\\"auto\\\",\\\"hyperdrive_config\\\":null,\\\"grain_column_names\\\":null,\\\"is_timeseries\\\":false,\\\"iteration_timeout_minutes\\\":30,\\\"max_concurrent_iterations\\\":3,\\\"metric_operation\\\":\\\"maximize\\\",\\\"model_explainability\\\":true,\\\"n_cross_validations\\\":null,\\\"name\\\":\\\"maternal-health-automl-exp\\\",\\\"path\\\":\\\"./sample_projects/maternal-health-automl-exp\\\",\\\"primary_metric\\\":\\\"AUC_weighted\\\",\\\"region\\\":\\\"westus2\\\",\\\"resource_group\\\":\\\"aml-quickstarts-240923\\\",\\\"subscription_id\\\":\\\"d4ad7261-832d-46b2-b093-22156001df5b\\\",\\\"task_type\\\":\\\"classification\\\",\\\"validation_size\\\":null,\\\"test_size\\\":null,\\\"vm_type\\\":\\\"STANDARD_DS3_V2\\\",\\\"workspace_name\\\":\\\"quick-starts-ws-240923\\\",\\\"label_column_name\\\":\\\"HighRisk\\\",\\\"positive_label\\\":null,\\\"enable_batch_run\\\":true,\\\"dataset_id\\\":\\\"edae7be1-92d0-42fd-8328-9d2ea427a014\\\"}\", \"DataPrepJsonString\": \"{\\\\\\\"datasets\\\\\\\":0,\\\\\\\"training_data\\\\\\\":{\\\\\\\"datasetId\\\\\\\":\\\\\\\"edae7be1-92d0-42fd-8328-9d2ea427a014\\\\\\\"}}\", \"EnableSubsampling\": \"False\", \"runTemplate\": \"AutoML\", \"azureml.runsource\": \"automl\", \"_aml_system_scenario_identification\": \"Remote.Parent\", \"ClientType\": \"Browser\", \"PlatformVersion\": \"DPV1\", \"environment_cpu_name\": \"AzureML-AutoML\", \"environment_cpu_label\": \"prod\", \"environment_gpu_name\": \"AzureML-AutoML-GPU\", \"environment_gpu_label\": \"prod\", \"root_attribution\": \"automl\", \"attribution\": \"AutoML\", \"Orchestrator\": \"AutoML\", \"CancelUri\": \"https://westus2.api.azureml.ms/jasmine/v1.0/subscriptions/d4ad7261-832d-46b2-b093-22156001df5b/resourceGroups/aml-quickstarts-240923/providers/Microsoft.MachineLearningServices/workspaces/quick-starts-ws-240923/experiment/maternal-health-automl-exp/cancel/AutoML_9d4ad407-d089-41e7-85f1-fc88df4ab866\", \"ClientSdkVersion\": null, \"snapshotId\": \"00000000-0000-0000-0000-000000000000\", \"SetupRunId\": \"AutoML_9d4ad407-d089-41e7-85f1-fc88df4ab866_setup\", \"SetupRunContainerId\": \"dcid.AutoML_9d4ad407-d089-41e7-85f1-fc88df4ab866_setup\", \"FeaturizationRunJsonPath\": \"featurizer_container.json\", \"FeaturizationRunId\": \"AutoML_9d4ad407-d089-41e7-85f1-fc88df4ab866_featurize\", \"ProblemInfoJsonString\": \"{\\\"dataset_num_categorical\\\": 0, \\\"is_sparse\\\": true, \\\"subsampling\\\": false, \\\"has_extra_col\\\": true, \\\"dataset_classes\\\": 2, \\\"dataset_features\\\": 108, \\\"dataset_samples\\\": 1014, \\\"single_frequency_class_detected\\\": false}\", \"ModelExplainRunId\": \"AutoML_9d4ad407-d089-41e7-85f1-fc88df4ab866_ModelExplain\"}, \"tags\": {\"model_explain_run\": \"best_run\", \"_aml_system_automl_run_workspace_id\": \"af33a05b-a578-4dda-a38f-539ed33aef85\", \"_aml_system_azureml.automlComponent\": \"AutoML\", \"pipeline_id_000\": \"a72eb56f3d4aadb7b7f0149ba6e5f05657a95ca1;294650ec23bc3d067a4972de7ceb12f6e97260fa;681a59302459aec2cc115ddbc14e1d28f4b3b8df;9610149fbcf43017aa810a290e9c04cbe6fa8684;5bcf69d12307c5f0246b0d33ab19666443595ac9;5dfac790c5c209f98a1da2dc1c7fb76f0397324f;1e38ae92baee19b18f211a8b14c16015d5ee3dc3;6f4a466f84f725a47910c1dff062a1bb46df2a21;a7434e890cabef86b0ce4ae71fb633e1e92b854d;c7af0367625be6ac5c2fecbfc72ed444cb7a2111;dea7fdbaedc77258dbfe31dbfed41e768ca38939;dd46719e1e1ca3df6e6826afb96bf9be8390e6e2;51ae05309834b29f71340af1008fc94fbd8213f4;c74787cd2f0507b852a1ac70d504d83ac9bdec83;208056285bd1883d5bd7d4e4e996a1c71c4b0033;ce2643edf3d450b10c86c7d034a9bc952dc282d3;79ebb3b8c385e3190e3dd4c1fa28b74730528045;039a99c3d5147edeb525249e2660628be3e8b83f;a3dadd95854bf6116ab454844302b51d417d78b7;5dcd9bc8a74634130a855a68c1bf956ce7160f98;1dfdf370ba770047b14bfa59c40920815defcdab;ee365d2bc711bc6838929328cc4ff4b890fbc6c3;3fe9ace0255a98a01a321c2b4c6ab86f6c1db8e5;eb060ff7ba0bf70687128be84d0fa9ce7cae70ac;7746bc6ee6fe5179d6912ed700e16a9cf571f5ed;26938661c1cd76d11c69cdfd290da29f0b629d5d;ff662148e3f61926f2fc755801c51bad4e53188f;a732578a4e2f76b6e3d54eb50b3c1989d3843e23;ba29499a4ce25a499a8fbd5b7ff1bc8581607dff;64538e61efe2dba8456109df1ca839cdea1c0bc7;4cd81ec0ce727087a72cdcb9e10aae4d7fa7d0b1;2a1d28599b50a6290078f86507b5f654b12bbea2;db2e33972fb53a15db7a1140e9735bc70c565870;2a17077ea0d81fee59d89e3edbfb492ee784dfab;011fbf378cba7d93cc4786335b8aa61ccb17cd6f;407d4c2b9b068308d7d3d4e4495b885b8a1d899c;7e840d284d291caad8f827259a7268633ed4d969;de3ec416fb0dc39a7466e1b2a6bf5581091baf20;9f1794d3be06fafbe53fcdea096b8fcf202e2353;402e3d2ec128bf6b997e46e9863c349307cbc95b;e3dad8f819ef845a02b5475fff8438dc8f3fa970;58f9ec9701bf80ae7fc8ba282e31cd44fdd5e5aa;5addab55797ebef7469288c4eb8bd257c5c6a543;a94eddafe3d02a30f5259706f11b7125bbfa2caa;__AutoML_Ensemble__;__AutoML_Stack_Ensemble__\", \"score_000\": \"0.9746860147731272;0.9625779697627008;0.9683276153706698;0.9592477060049762;0.9224598526733221;0.9723938790030301;0.9532979382866235;0.9460334613142019;0.9618545581585073;0.9734211677873111;0.9487514118909045;0.9582201916656689;0.9523513858477602;0.9629339166726503;0.9468282933399088;0.9457147849054669;0.9480840566334305;0.9460875775175829;0.9631203159311394;0.9532869376830582;0.9616857218377812;0.9592035807970749;0.9686324617752781;0.9553573483417175;0.9640536518564756;0.8749971098147182;0.9287303596288762;0.9528726369813686;0.962090513310558;0.9604572252199416;0.5;0.9669778991506851;0.9494445887282592;0.9444020895602815;0.9525515893380198;0.9083083050226858;0.9511565559356483;0.9624924148443185;0.9528309192432994;0.9607730941818069;0.971823692827397;0.9554983788572359;0.9703117568977877;NaN;0.9818135390923198;0.9770366683870787\", \"predicted_cost_000\": \"0.5;0.5;0.5;0.5;0.5;0;0.5;0.5;0.5;0;0.5;0.5;0.5;0.5;0.5;0.5;0.5;0.5;0.5;2.3568093543695885;0.5;1.0966225468032957;1.5620988938730374;0.7456273169366532;1.5714907650588712;0.8499242703790988;0.23955415234303806;4.737297792847581;4.0791019282542;1.1867362580965857;0.11848426276735646;3.0365958682463607;8.982171023344613;2.254367006131101;27.370662062033638;1.5341282514791097;1.2993977923435347;6.547863706606625;0.06435503288371788;1.7087964417397636;1.8596212449834115;0.21456835963341703;0.9611873014569554;6.418707480294363;0;0\", \"fit_time_000\": \"0.4560393333333333;3.3054503333333334;3.743741333333334;9.48906;0.14922533333333332;31.19820333333333;0.8540596666666667;2.100433;0.6249846666666666;8.260295666666666;0.9253316666666667;1.904778;0.066982;2.319368;0.23479466666666662;0.06559666666666668;0.08148666666666667;0.7904599999999999;0.036164;0.7075056666666667;0.497773;0.04848666666666666;0.5236193333333333;1.0022520000000001;4.308070666666667;1.6507983333333334;2.8850126666666664;15.266017666666668;20.115272666666666;13.834782333333331;1.6232976666666667;3.1452043333333335;3.271236666666667;1.20277;6.906847666666667;0.38536566666666666;0.029361666666666664;6.1332510000000005;0.004805333333333333;0.32963400000000004;18.230165666666668;0.025919333333333332;2.2519386666666668;NaN;31;31\", \"training_percent_000\": \"100;100;100;100;100;100;100;100;100;100;100;100;100;100;100;100;100;100;100;100;100;100;100;100;100;100;100;100;100;100;100;100;100;100;100;100;100;100;100;100;100;100;100;100;100;100\", \"iteration_000\": \"14;7;8;15;9;0;16;10;17;1;11;18;2;12;19;3;13;4;5;20;6;21;22;23;24;25;26;28;27;29;30;31;32;33;34;35;36;37;38;40;39;41;42;43;44;45\", \"run_preprocessor_000\": \"StandardScalerWrapper;StandardScalerWrapper;SparseNormalizer;MaxAbsScaler;MaxAbsScaler;MaxAbsScaler;MaxAbsScaler;SparseNormalizer;StandardScalerWrapper;MaxAbsScaler;MaxAbsScaler;StandardScalerWrapper;MaxAbsScaler;StandardScalerWrapper;MaxAbsScaler;MaxAbsScaler;StandardScalerWrapper;StandardScalerWrapper;SparseNormalizer;MaxAbsScaler;SparseNormalizer;StandardScalerWrapper;StandardScalerWrapper;StandardScalerWrapper;StandardScalerWrapper;TruncatedSVDWrapper;MaxAbsScaler;SparseNormalizer;SparseNormalizer;StandardScalerWrapper;MaxAbsScaler;SparseNormalizer;StandardScalerWrapper;MaxAbsScaler;StandardScalerWrapper;TruncatedSVDWrapper;StandardScalerWrapper;SparseNormalizer;MaxAbsScaler;SparseNormalizer;SparseNormalizer;MaxAbsScaler;StandardScalerWrapper;SparseNormalizer;;\", \"run_algorithm_000\": \"RandomForest;XGBoostClassifier;XGBoostClassifier;LightGBM;RandomForest;LightGBM;LogisticRegression;LightGBM;ExtremeRandomTrees;XGBoostClassifier;ExtremeRandomTrees;XGBoostClassifier;ExtremeRandomTrees;XGBoostClassifier;ExtremeRandomTrees;RandomForest;ExtremeRandomTrees;LightGBM;XGBoostClassifier;LogisticRegression;RandomForest;XGBoostClassifier;XGBoostClassifier;LogisticRegression;XGBoostClassifier;RandomForest;LightGBM;XGBoostClassifier;LightGBM;XGBoostClassifier;RandomForest;XGBoostClassifier;XGBoostClassifier;LightGBM;LightGBM;RandomForest;LinearSVM;XGBoostClassifier;SGD;RandomForest;XGBoostClassifier;SGD;XGBoostClassifier;XGBoostClassifier;VotingEnsemble;StackEnsemble\", \"dynamic_allowlisting_iterations\": \"<25>;<30>;<35>;<40>;\", \"_aml_system_azureml.automl_early_exit_message\": \"No scores improved over last 20 iterations, so experiment stopped early. This early stopping behavior can be disabled by setting enable_early_stopping = False in AutoMLConfig for notebook/python SDK runs.\", \"automl_best_child_run_id\": \"AutoML_9d4ad407-d089-41e7-85f1-fc88df4ab866_44\", \"model_explain_best_run_child_id\": \"AutoML_9d4ad407-d089-41e7-85f1-fc88df4ab866_44\"}, \"end_time_utc\": \"2023-09-01T15:21:51.717023Z\", \"status\": \"Completed\", \"log_files\": {}, \"log_groups\": [], \"run_duration\": \"0:26:39\", \"run_number\": \"1693580111\", \"run_queued_details\": {\"status\": \"Completed\", \"details\": null}}, \"child_runs\": [{\"run_id\": \"AutoML_9d4ad407-d089-41e7-85f1-fc88df4ab866_setup\", \"run_number\": 1693580125, \"metric\": null, \"status\": \"Completed\", \"run_type\": \"azureml.scriptrun\", \"training_percent\": null, \"start_time\": \"2023-09-01T14:55:44.972377Z\", \"end_time\": \"2023-09-01T14:58:12.963386Z\", \"created_time\": \"2023-09-01T14:55:25.429498Z\", \"created_time_dt\": \"2023-09-01T14:55:25.429498Z\", \"duration\": \"0:02:47\", \"iteration\": null, \"goal\": null, \"run_name\": \"Completed\", \"run_properties\": null}, {\"run_id\": \"AutoML_9d4ad407-d089-41e7-85f1-fc88df4ab866_featurize\", \"run_number\": 1693580293, \"metric\": null, \"status\": \"Completed\", \"run_type\": \"automl.featurization\", \"training_percent\": null, \"start_time\": \"2023-09-01T14:58:13.644288Z\", \"end_time\": \"2023-09-01T14:59:22.898209Z\", \"created_time\": \"2023-09-01T14:58:13.238431Z\", \"created_time_dt\": \"2023-09-01T14:58:13.238431Z\", \"duration\": \"0:01:09\", \"iteration\": null, \"goal\": null, \"run_name\": \"Completed\", \"run_properties\": null}, {\"run_id\": \"AutoML_9d4ad407-d089-41e7-85f1-fc88df4ab866_0\", \"run_number\": 1693580364, \"metric\": null, \"status\": \"Completed\", \"run_type\": null, \"training_percent\": \"100\", \"start_time\": \"2023-09-01T14:59:58.990835Z\", \"end_time\": \"2023-09-01T15:02:23.961038Z\", \"created_time\": \"2023-09-01T14:59:24.329215Z\", \"created_time_dt\": \"2023-09-01T14:59:24.329215Z\", \"duration\": \"0:02:59\", \"iteration\": \"0\", \"goal\": \"AUC_weighted_max\", \"run_name\": \"MaxAbsScaler, LightGBM\", \"run_properties\": \"copy=True\", \"primary_metric\": 0.97239388, \"best_metric\": 0.97239388}, {\"run_id\": \"AutoML_9d4ad407-d089-41e7-85f1-fc88df4ab866_2\", \"run_number\": 1693580365, \"metric\": null, \"status\": \"Completed\", \"run_type\": null, \"training_percent\": \"100\", \"start_time\": \"2023-09-01T15:03:36.312659Z\", \"end_time\": \"2023-09-01T15:04:10.696952Z\", \"created_time\": \"2023-09-01T14:59:25.325174Z\", \"created_time_dt\": \"2023-09-01T14:59:25.325174Z\", \"duration\": \"0:04:45\", \"iteration\": \"2\", \"goal\": \"AUC_weighted_max\", \"run_name\": \"MaxAbsScaler, ExtremeRandomTrees\", \"run_properties\": \"copy=True\", \"primary_metric\": 0.95235139, \"best_metric\": 0.97239388}, {\"run_id\": \"AutoML_9d4ad407-d089-41e7-85f1-fc88df4ab866_4\", \"run_number\": 1693580366, \"metric\": null, \"status\": \"Completed\", \"run_type\": null, \"training_percent\": \"100\", \"start_time\": \"2023-09-01T15:04:47.674743Z\", \"end_time\": \"2023-09-01T15:05:26.183477Z\", \"created_time\": \"2023-09-01T14:59:26.236192Z\", \"created_time_dt\": \"2023-09-01T14:59:26.236192Z\", \"duration\": \"0:05:59\", \"iteration\": \"4\", \"goal\": \"AUC_weighted_max\", \"run_name\": \"StandardScalerWrapper, LightGBM\", \"run_properties\": \"copy=True, with_mean=False, with_std=True\", \"primary_metric\": 0.94608758, \"best_metric\": 0.97239388}, {\"run_id\": \"AutoML_9d4ad407-d089-41e7-85f1-fc88df4ab866_worker_0\", \"run_number\": 1693580367, \"metric\": null, \"status\": \"Completed\", \"run_type\": \"azureml.scriptrun\", \"training_percent\": null, \"start_time\": \"2023-09-01T14:59:44.264479Z\", \"end_time\": \"2023-09-01T15:06:58.102465Z\", \"created_time\": \"2023-09-01T14:59:27.489023Z\", \"created_time_dt\": \"2023-09-01T14:59:27.489023Z\", \"duration\": \"0:07:30\", \"iteration\": null, \"goal\": null, \"run_name\": \"Completed\", \"run_properties\": null}, {\"run_id\": \"AutoML_9d4ad407-d089-41e7-85f1-fc88df4ab866_8\", \"run_number\": 1693580368, \"metric\": null, \"status\": \"Completed\", \"run_type\": null, \"training_percent\": \"100\", \"start_time\": \"2023-09-01T15:00:54.443184Z\", \"end_time\": \"2023-09-01T15:01:45.610587Z\", \"created_time\": \"2023-09-01T14:59:28.144679Z\", \"created_time_dt\": \"2023-09-01T14:59:28.144679Z\", \"duration\": \"0:02:17\", \"iteration\": \"8\", \"goal\": \"AUC_weighted_max\", \"run_name\": \"SparseNormalizer, XGBoostClassifier\", \"run_properties\": \"copy=True, norm='max'\", \"primary_metric\": 0.96832762, \"best_metric\": 0.97239388}, {\"run_id\": \"AutoML_9d4ad407-d089-41e7-85f1-fc88df4ab866_10\", \"run_number\": 1693580369, \"metric\": null, \"status\": \"Completed\", \"run_type\": null, \"training_percent\": \"100\", \"start_time\": \"2023-09-01T15:02:22.959644Z\", \"end_time\": \"2023-09-01T15:03:08.220827Z\", \"created_time\": \"2023-09-01T14:59:29.027966Z\", \"created_time_dt\": \"2023-09-01T14:59:29.027966Z\", \"duration\": \"0:03:39\", \"iteration\": \"10\", \"goal\": \"AUC_weighted_max\", \"run_name\": \"SparseNormalizer, LightGBM\", \"run_properties\": \"copy=True, norm='l1'\", \"primary_metric\": 0.94603346, \"best_metric\": 0.97239388}, {\"run_id\": \"AutoML_9d4ad407-d089-41e7-85f1-fc88df4ab866_worker_1\", \"run_number\": 1693580370, \"metric\": null, \"status\": \"Completed\", \"run_type\": \"azureml.scriptrun\", \"training_percent\": null, \"start_time\": \"2023-09-01T14:59:44.186796Z\", \"end_time\": \"2023-09-01T15:05:28.306942Z\", \"created_time\": \"2023-09-01T14:59:30.565323Z\", \"created_time_dt\": \"2023-09-01T14:59:30.565323Z\", \"duration\": \"0:05:57\", \"iteration\": null, \"goal\": null, \"run_name\": \"Completed\", \"run_properties\": null}, {\"run_id\": \"AutoML_9d4ad407-d089-41e7-85f1-fc88df4ab866_15\", \"run_number\": 1693580371, \"metric\": null, \"status\": \"Completed\", \"run_type\": null, \"training_percent\": \"100\", \"start_time\": \"2023-09-01T15:00:44.617757Z\", \"end_time\": \"2023-09-01T15:02:00.509452Z\", \"created_time\": \"2023-09-01T14:59:31.184697Z\", \"created_time_dt\": \"2023-09-01T14:59:31.184697Z\", \"duration\": \"0:02:29\", \"iteration\": \"15\", \"goal\": \"AUC_weighted_max\", \"run_name\": \"MaxAbsScaler, LightGBM\", \"run_properties\": \"copy=True\", \"primary_metric\": 0.95924771, \"best_metric\": 0.97239388}, {\"run_id\": \"AutoML_9d4ad407-d089-41e7-85f1-fc88df4ab866_17\", \"run_number\": 1693580372, \"metric\": null, \"status\": \"Completed\", \"run_type\": null, \"training_percent\": \"100\", \"start_time\": \"2023-09-01T15:02:42.840671Z\", \"end_time\": \"2023-09-01T15:03:20.850108Z\", \"created_time\": \"2023-09-01T14:59:32.05462Z\", \"created_time_dt\": \"2023-09-01T14:59:32.05462Z\", \"duration\": \"0:03:48\", \"iteration\": \"17\", \"goal\": \"AUC_weighted_max\", \"run_name\": \"StandardScalerWrapper, ExtremeRandomTrees\", \"run_properties\": \"copy=True, with_mean=False, with_std=True\", \"primary_metric\": 0.96185456, \"best_metric\": 0.97239388}, {\"run_id\": \"AutoML_9d4ad407-d089-41e7-85f1-fc88df4ab866_worker_2\", \"run_number\": 1693580373, \"metric\": null, \"status\": \"Completed\", \"run_type\": \"azureml.scriptrun\", \"training_percent\": null, \"start_time\": \"2023-09-01T14:59:44.514766Z\", \"end_time\": \"2023-09-01T15:04:56.286308Z\", \"created_time\": \"2023-09-01T14:59:33.159787Z\", \"created_time_dt\": \"2023-09-01T14:59:33.159787Z\", \"duration\": \"0:05:23\", \"iteration\": null, \"goal\": null, \"run_name\": \"Completed\", \"run_properties\": null}, {\"run_id\": \"AutoML_9d4ad407-d089-41e7-85f1-fc88df4ab866_20\", \"run_number\": 1693580730, \"metric\": null, \"status\": \"Completed\", \"run_type\": \"azureml.scriptrun\", \"training_percent\": \"100\", \"start_time\": \"2023-09-01T15:05:37.198111Z\", \"end_time\": \"2023-09-01T15:06:36.852128Z\", \"created_time\": \"2023-09-01T15:05:30.029748Z\", \"created_time_dt\": \"2023-09-01T15:05:30.029748Z\", \"duration\": \"0:01:06\", \"iteration\": \"20\", \"goal\": \"AUC_weighted_max\", \"run_name\": \"MaxAbsScaler, LogisticRegression\", \"run_properties\": \"copy=True\", \"primary_metric\": 0.95328694, \"best_metric\": 0.97239388}, {\"run_id\": \"AutoML_9d4ad407-d089-41e7-85f1-fc88df4ab866_21\", \"run_number\": 1693580767, \"metric\": null, \"status\": \"Completed\", \"run_type\": \"azureml.scriptrun\", \"training_percent\": \"100\", \"start_time\": \"2023-09-01T15:06:24.772954Z\", \"end_time\": \"2023-09-01T15:07:20.737715Z\", \"created_time\": \"2023-09-01T15:06:07.93141Z\", \"created_time_dt\": \"2023-09-01T15:06:07.93141Z\", \"duration\": \"0:01:12\", \"iteration\": \"21\", \"goal\": \"AUC_weighted_max\", \"run_name\": \"StandardScalerWrapper, XGBoostClassifier\", \"run_properties\": \"copy=True, with_mean=False, with_std=False\", \"primary_metric\": 0.95920358, \"best_metric\": 0.97239388}, {\"run_id\": \"AutoML_9d4ad407-d089-41e7-85f1-fc88df4ab866_22\", \"run_number\": 1693580800, \"metric\": null, \"status\": \"Completed\", \"run_type\": \"azureml.scriptrun\", \"training_percent\": \"100\", \"start_time\": \"2023-09-01T15:06:50.948454Z\", \"end_time\": \"2023-09-01T15:07:47.187895Z\", \"created_time\": \"2023-09-01T15:06:40.486953Z\", \"created_time_dt\": \"2023-09-01T15:06:40.486953Z\", \"duration\": \"0:01:06\", \"iteration\": \"22\", \"goal\": \"AUC_weighted_max\", \"run_name\": \"StandardScalerWrapper, XGBoostClassifier\", \"run_properties\": \"copy=True, with_mean=False, with_std=False\", \"primary_metric\": 0.96863246, \"best_metric\": 0.97239388}, {\"run_id\": \"AutoML_9d4ad407-d089-41e7-85f1-fc88df4ab866_23\", \"run_number\": 1693580842, \"metric\": null, \"status\": \"Completed\", \"run_type\": \"azureml.scriptrun\", \"training_percent\": \"100\", \"start_time\": \"2023-09-01T15:07:37.870367Z\", \"end_time\": \"2023-09-01T15:08:41.576008Z\", \"created_time\": \"2023-09-01T15:07:22.881902Z\", \"created_time_dt\": \"2023-09-01T15:07:22.881902Z\", \"duration\": \"0:01:18\", \"iteration\": \"23\", \"goal\": \"AUC_weighted_max\", \"run_name\": \"StandardScalerWrapper, LogisticRegression\", \"run_properties\": \"copy=True, with_mean=False, with_std=True\", \"primary_metric\": 0.95535735, \"best_metric\": 0.97239388}, {\"run_id\": \"AutoML_9d4ad407-d089-41e7-85f1-fc88df4ab866_25\", \"run_number\": 1693580870, \"metric\": null, \"status\": \"Completed\", \"run_type\": \"azureml.scriptrun\", \"training_percent\": \"100\", \"start_time\": \"2023-09-01T15:07:57.273605Z\", \"end_time\": \"2023-09-01T15:09:01.243073Z\", \"created_time\": \"2023-09-01T15:07:50.251583Z\", \"created_time_dt\": \"2023-09-01T15:07:50.251583Z\", \"duration\": \"0:01:10\", \"iteration\": \"25\", \"goal\": \"AUC_weighted_max\", \"run_name\": \"TruncatedSVDWrapper, RandomForest\", \"run_properties\": \"n_components=0.9005263157894737, random_state=None\", \"primary_metric\": 0.87499711, \"best_metric\": 0.97239388}, {\"run_id\": \"AutoML_9d4ad407-d089-41e7-85f1-fc88df4ab866_26\", \"run_number\": 1693580923, \"metric\": null, \"status\": \"Completed\", \"run_type\": \"azureml.scriptrun\", \"training_percent\": \"100\", \"start_time\": \"2023-09-01T15:08:55.641459Z\", \"end_time\": \"2023-09-01T15:10:09.782351Z\", \"created_time\": \"2023-09-01T15:08:43.467795Z\", \"created_time_dt\": \"2023-09-01T15:08:43.467795Z\", \"duration\": \"0:01:26\", \"iteration\": \"26\", \"goal\": \"AUC_weighted_max\", \"run_name\": \"MaxAbsScaler, LightGBM\", \"run_properties\": \"copy=True\", \"primary_metric\": 0.92873036, \"best_metric\": 0.97239388}, {\"run_id\": \"AutoML_9d4ad407-d089-41e7-85f1-fc88df4ab866_27\", \"run_number\": 1693580935, \"metric\": null, \"status\": \"Completed\", \"run_type\": \"azureml.scriptrun\", \"training_percent\": \"100\", \"start_time\": \"2023-09-01T15:09:04.44658Z\", \"end_time\": \"2023-09-01T15:11:53.427183Z\", \"created_time\": \"2023-09-01T15:08:55.800498Z\", \"created_time_dt\": \"2023-09-01T15:08:55.800498Z\", \"duration\": \"0:02:57\", \"iteration\": \"27\", \"goal\": \"AUC_weighted_max\", \"run_name\": \"SparseNormalizer, LightGBM\", \"run_properties\": \"copy=True, norm='l1'\", \"primary_metric\": 0.96209051, \"best_metric\": 0.97239388}, {\"run_id\": \"AutoML_9d4ad407-d089-41e7-85f1-fc88df4ab866_28\", \"run_number\": 1693580943, \"metric\": null, \"status\": \"Completed\", \"run_type\": \"azureml.scriptrun\", \"training_percent\": \"100\", \"start_time\": \"2023-09-01T15:09:12.099841Z\", \"end_time\": \"2023-09-01T15:11:23.293399Z\", \"created_time\": \"2023-09-01T15:09:03.081394Z\", \"created_time_dt\": \"2023-09-01T15:09:03.081394Z\", \"duration\": \"0:02:20\", \"iteration\": \"28\", \"goal\": \"AUC_weighted_max\", \"run_name\": \"SparseNormalizer, XGBoostClassifier\", \"run_properties\": \"copy=True, norm='max'\", \"primary_metric\": 0.95287264, \"best_metric\": 0.97239388}, {\"run_id\": \"AutoML_9d4ad407-d089-41e7-85f1-fc88df4ab866_29\", \"run_number\": 1693581011, \"metric\": null, \"status\": \"Completed\", \"run_type\": \"azureml.scriptrun\", \"training_percent\": \"100\", \"start_time\": \"2023-09-01T15:10:26.361334Z\", \"end_time\": \"2023-09-01T15:12:04.937908Z\", \"created_time\": \"2023-09-01T15:10:11.416233Z\", \"created_time_dt\": \"2023-09-01T15:10:11.416233Z\", \"duration\": \"0:01:53\", \"iteration\": \"29\", \"goal\": \"AUC_weighted_max\", \"run_name\": \"StandardScalerWrapper, XGBoostClassifier\", \"run_properties\": \"copy=True, with_mean=False, with_std=False\", \"primary_metric\": 0.96045723, \"best_metric\": 0.97239388}, {\"run_id\": \"AutoML_9d4ad407-d089-41e7-85f1-fc88df4ab866_30\", \"run_number\": 1693581087, \"metric\": null, \"status\": \"Completed\", \"run_type\": \"azureml.scriptrun\", \"training_percent\": \"100\", \"start_time\": \"2023-09-01T15:11:44.127758Z\", \"end_time\": \"2023-09-01T15:12:48.719474Z\", \"created_time\": \"2023-09-01T15:11:27.055286Z\", \"created_time_dt\": \"2023-09-01T15:11:27.055286Z\", \"duration\": \"0:01:21\", \"iteration\": \"30\", \"goal\": \"AUC_weighted_max\", \"run_name\": \"MaxAbsScaler, RandomForest\", \"run_properties\": \"copy=True\", \"primary_metric\": 0.5, \"best_metric\": 0.97239388}, {\"run_id\": \"AutoML_9d4ad407-d089-41e7-85f1-fc88df4ab866_31\", \"run_number\": 1693581115, \"metric\": null, \"status\": \"Completed\", \"run_type\": \"azureml.scriptrun\", \"training_percent\": \"100\", \"start_time\": \"2023-09-01T15:12:05.818344Z\", \"end_time\": \"2023-09-01T15:13:12.931392Z\", \"created_time\": \"2023-09-01T15:11:55.299233Z\", \"created_time_dt\": \"2023-09-01T15:11:55.299233Z\", \"duration\": \"0:01:17\", \"iteration\": \"31\", \"goal\": \"AUC_weighted_max\", \"run_name\": \"SparseNormalizer, XGBoostClassifier\", \"run_properties\": \"copy=True, norm='max'\", \"primary_metric\": 0.9669779, \"best_metric\": 0.97239388}, {\"run_id\": \"AutoML_9d4ad407-d089-41e7-85f1-fc88df4ab866_32\", \"run_number\": 1693581127, \"metric\": null, \"status\": \"Completed\", \"run_type\": \"azureml.scriptrun\", \"training_percent\": \"100\", \"start_time\": \"2023-09-01T15:12:15.531156Z\", \"end_time\": \"2023-09-01T15:13:27.323556Z\", \"created_time\": \"2023-09-01T15:12:07.086286Z\", \"created_time_dt\": \"2023-09-01T15:12:07.086286Z\", \"duration\": \"0:01:20\", \"iteration\": \"32\", \"goal\": \"AUC_weighted_max\", \"run_name\": \"StandardScalerWrapper, XGBoostClassifier\", \"run_properties\": \"copy=True, with_mean=False, with_std=False\", \"primary_metric\": 0.94944459, \"best_metric\": 0.97239388}, {\"run_id\": \"AutoML_9d4ad407-d089-41e7-85f1-fc88df4ab866_33\", \"run_number\": 1693581170, \"metric\": null, \"status\": \"Completed\", \"run_type\": \"azureml.scriptrun\", \"training_percent\": \"100\", \"start_time\": \"2023-09-01T15:13:06.611792Z\", \"end_time\": \"2023-09-01T15:14:23.794284Z\", \"created_time\": \"2023-09-01T15:12:50.89994Z\", \"created_time_dt\": \"2023-09-01T15:12:50.89994Z\", \"duration\": \"0:01:32\", \"iteration\": \"33\", \"goal\": \"AUC_weighted_max\", \"run_name\": \"MaxAbsScaler, LightGBM\", \"run_properties\": \"copy=True\", \"primary_metric\": 0.94440209, \"best_metric\": 0.97239388}, {\"run_id\": \"AutoML_9d4ad407-d089-41e7-85f1-fc88df4ab866_34\", \"run_number\": 1693581194, \"metric\": null, \"status\": \"Completed\", \"run_type\": \"azureml.scriptrun\", \"training_percent\": \"100\", \"start_time\": \"2023-09-01T15:13:22.50235Z\", \"end_time\": \"2023-09-01T15:15:04.277102Z\", \"created_time\": \"2023-09-01T15:13:14.533918Z\", \"created_time_dt\": \"2023-09-01T15:13:14.533918Z\", \"duration\": \"0:01:49\", \"iteration\": \"34\", \"goal\": \"AUC_weighted_max\", \"run_name\": \"StandardScalerWrapper, LightGBM\", \"run_properties\": \"copy=True, with_mean=False, with_std=True\", \"primary_metric\": 0.95255159, \"best_metric\": 0.97239388}, {\"run_id\": \"AutoML_9d4ad407-d089-41e7-85f1-fc88df4ab866_35\", \"run_number\": 1693581209, \"metric\": null, \"status\": \"Completed\", \"run_type\": \"azureml.scriptrun\", \"training_percent\": \"100\", \"start_time\": \"2023-09-01T15:13:40.803994Z\", \"end_time\": \"2023-09-01T15:16:07.503977Z\", \"created_time\": \"2023-09-01T15:13:29.634644Z\", \"created_time_dt\": \"2023-09-01T15:13:29.634644Z\", \"duration\": \"0:02:37\", \"iteration\": \"35\", \"goal\": \"AUC_weighted_max\", \"run_name\": \"TruncatedSVDWrapper, RandomForest\", \"run_properties\": \"n_components=0.3068421052631579, random_state=None\", \"primary_metric\": 0.90830831, \"best_metric\": 0.97239388}, {\"run_id\": \"AutoML_9d4ad407-d089-41e7-85f1-fc88df4ab866_36\", \"run_number\": 1693581265, \"metric\": null, \"status\": \"Completed\", \"run_type\": \"azureml.scriptrun\", \"training_percent\": \"100\", \"start_time\": \"2023-09-01T15:15:37.620357Z\", \"end_time\": \"2023-09-01T15:16:36.849761Z\", \"created_time\": \"2023-09-01T15:14:25.565666Z\", \"created_time_dt\": \"2023-09-01T15:14:25.565666Z\", \"duration\": \"0:02:11\", \"iteration\": \"36\", \"goal\": \"AUC_weighted_max\", \"run_name\": \"StandardScalerWrapper, LinearSVM\", \"run_properties\": \"copy=True, with_mean=False, with_std=True\", \"primary_metric\": 0.95115656, \"best_metric\": 0.97239388}, {\"run_id\": \"AutoML_9d4ad407-d089-41e7-85f1-fc88df4ab866_37\", \"run_number\": 1693581306, \"metric\": null, \"status\": \"Completed\", \"run_type\": \"azureml.scriptrun\", \"training_percent\": \"100\", \"start_time\": \"2023-09-01T15:15:47.815815Z\", \"end_time\": \"2023-09-01T15:17:03.729711Z\", \"created_time\": \"2023-09-01T15:15:06.137788Z\", \"created_time_dt\": \"2023-09-01T15:15:06.137788Z\", \"duration\": \"0:01:57\", \"iteration\": \"37\", \"goal\": \"AUC_weighted_max\", \"run_name\": \"SparseNormalizer, XGBoostClassifier\", \"run_properties\": \"copy=True, norm='l2'\", \"primary_metric\": 0.96249241, \"best_metric\": 0.97239388}, {\"run_id\": \"AutoML_9d4ad407-d089-41e7-85f1-fc88df4ab866_38\", \"run_number\": 1693581411, \"metric\": null, \"status\": \"Completed\", \"run_type\": \"azureml.scriptrun\", \"training_percent\": \"100\", \"start_time\": \"2023-09-01T15:17:02.607839Z\", \"end_time\": \"2023-09-01T15:18:04.593533Z\", \"created_time\": \"2023-09-01T15:16:51.599387Z\", \"created_time_dt\": \"2023-09-01T15:16:51.599387Z\", \"duration\": \"0:01:12\", \"iteration\": \"38\", \"goal\": \"AUC_weighted_max\", \"run_name\": \"MaxAbsScaler, SGD\", \"run_properties\": \"copy=True\", \"primary_metric\": 0.95283092, \"best_metric\": 0.97239388}, {\"run_id\": \"AutoML_9d4ad407-d089-41e7-85f1-fc88df4ab866_39\", \"run_number\": 1693581414, \"metric\": null, \"status\": \"Completed\", \"run_type\": \"azureml.scriptrun\", \"training_percent\": \"100\", \"start_time\": \"2023-09-01T15:17:04.791409Z\", \"end_time\": \"2023-09-01T15:19:20.059747Z\", \"created_time\": \"2023-09-01T15:16:54.274576Z\", \"created_time_dt\": \"2023-09-01T15:16:54.274576Z\", \"duration\": \"0:02:25\", \"iteration\": \"39\", \"goal\": \"AUC_weighted_max\", \"run_name\": \"SparseNormalizer, XGBoostClassifier\", \"run_properties\": \"copy=True, norm='l1'\", \"primary_metric\": 0.97182369, \"best_metric\": 0.97239388}, {\"run_id\": \"AutoML_9d4ad407-d089-41e7-85f1-fc88df4ab866_40\", \"run_number\": 1693581427, \"metric\": null, \"status\": \"Completed\", \"run_type\": \"azureml.scriptrun\", \"training_percent\": \"100\", \"start_time\": \"2023-09-01T15:17:37.880317Z\", \"end_time\": \"2023-09-01T15:18:44.274923Z\", \"created_time\": \"2023-09-01T15:17:07.107046Z\", \"created_time_dt\": \"2023-09-01T15:17:07.107046Z\", \"duration\": \"0:01:37\", \"iteration\": \"40\", \"goal\": \"AUC_weighted_max\", \"run_name\": \"SparseNormalizer, RandomForest\", \"run_properties\": \"copy=True, norm='max'\", \"primary_metric\": 0.96077309, \"best_metric\": 0.97239388}, {\"run_id\": \"AutoML_9d4ad407-d089-41e7-85f1-fc88df4ab866_41\", \"run_number\": 1693581486, \"metric\": null, \"status\": \"Completed\", \"run_type\": \"azureml.scriptrun\", \"training_percent\": \"100\", \"start_time\": \"2023-09-01T15:18:45.332278Z\", \"end_time\": \"2023-09-01T15:20:00.155598Z\", \"created_time\": \"2023-09-01T15:18:06.135094Z\", \"created_time_dt\": \"2023-09-01T15:18:06.135094Z\", \"duration\": \"0:01:54\", \"iteration\": \"41\", \"goal\": \"AUC_weighted_max\", \"run_name\": \"MaxAbsScaler, SGD\", \"run_properties\": \"copy=True\", \"primary_metric\": 0.95549838, \"best_metric\": 0.97239388}, {\"run_id\": \"AutoML_9d4ad407-d089-41e7-85f1-fc88df4ab866_42\", \"run_number\": 1693581525, \"metric\": null, \"status\": \"Canceled\", \"run_type\": \"azureml.scriptrun\", \"training_percent\": \"100\", \"start_time\": \"2023-09-01T15:19:07.618571Z\", \"end_time\": \"2023-09-01T15:20:07.779012Z\", \"created_time\": \"2023-09-01T15:18:45.760202Z\", \"created_time_dt\": \"2023-09-01T15:18:45.760202Z\", \"duration\": \"0:01:22\", \"iteration\": \"42\", \"goal\": \"AUC_weighted_max\", \"run_name\": \"StandardScalerWrapper, XGBoostClassifier\", \"run_properties\": \"copy=True, with_mean=False, with_std=False\", \"primary_metric\": 0.97031176, \"best_metric\": 0.97239388}, {\"run_id\": \"AutoML_9d4ad407-d089-41e7-85f1-fc88df4ab866_43\", \"run_number\": 1693581561, \"metric\": null, \"status\": \"Canceled\", \"run_type\": \"azureml.scriptrun\", \"training_percent\": \"100\", \"start_time\": \"2023-09-01T15:20:00.92453Z\", \"end_time\": \"2023-09-01T15:20:13.000883Z\", \"created_time\": \"2023-09-01T15:19:21.625387Z\", \"created_time_dt\": \"2023-09-01T15:19:21.625387Z\", \"duration\": \"0:00:51\", \"iteration\": \"43\", \"goal\": null, \"run_name\": \"SparseNormalizer, XGBoostClassifier\", \"run_properties\": null}, {\"run_id\": \"AutoML_9d4ad407-d089-41e7-85f1-fc88df4ab866_44\", \"run_number\": 1693581613, \"metric\": null, \"status\": \"Completed\", \"run_type\": \"azureml.scriptrun\", \"training_percent\": \"100\", \"start_time\": \"2023-09-01T15:20:23.688765Z\", \"end_time\": \"2023-09-01T15:21:48.36399Z\", \"created_time\": \"2023-09-01T15:20:13.696167Z\", \"created_time_dt\": \"2023-09-01T15:20:13.696167Z\", \"duration\": \"0:01:34\", \"iteration\": \"44\", \"goal\": \"AUC_weighted_max\", \"run_name\": \"VotingEnsemble\", \"run_properties\": \"classification_labels=numpy.array([0, 1]\", \"primary_metric\": 0.98181354, \"best_metric\": 0.98181354}], \"children_metrics\": {\"categories\": [0], \"series\": {\"accuracy\": [{\"categories\": [\"0\", \"2\", \"4\", \"8\", \"10\", \"15\", \"17\", \"20\", \"21\", \"22\", \"23\", \"25\", \"26\", \"27\", \"28\", \"29\", \"30\", \"31\", \"32\", \"33\", \"34\", \"35\", \"36\", \"37\", \"38\", \"39\", \"40\", \"41\", \"42\", \"44\"], \"mode\": \"markers\", \"name\": \"accuracy\", \"stepped\": false, \"type\": \"scatter\", \"data\": [0.9329388560157791, 0.9003944773175542, 0.8964497041420119, 0.9289940828402367, 0.8905325443786983, 0.8905325443786983, 0.8806706114398422, 0.893491124260355, 0.9132149901380671, 0.9220907297830375, 0.8964497041420119, 0.7317554240631163, 0.8668639053254438, 0.9181459566074951, 0.9003944773175542, 0.9092702169625246, 0.7317554240631163, 0.9181459566074951, 0.9033530571992111, 0.8856015779092702, 0.9053254437869822, 0.7416173570019723, 0.8954635108481263, 0.9102564102564102, 0.8796844181459567, 0.9398422090729782, 0.9043392504930966, 0.888560157790927, 0.9299802761341223, 0.9358974358974358]}, {\"categories\": [\"0\", \"2\", \"4\", \"8\", \"10\", \"15\", \"17\", \"20\", \"21\", \"22\", \"23\", \"25\", \"26\", \"27\", \"28\", \"29\", \"30\", \"31\", \"32\", \"33\", \"34\", \"35\", \"36\", \"37\", \"38\", \"39\", \"40\", \"41\", \"42\", \"44\"], \"mode\": \"lines\", \"name\": \"accuracy_max\", \"stepped\": true, \"type\": \"scatter\", \"data\": [0.9329388560157791, 0.9329388560157791, 0.9329388560157791, 0.9329388560157791, 0.9329388560157791, 0.9329388560157791, 0.9329388560157791, 0.9329388560157791, 0.9329388560157791, 0.9329388560157791, 0.9329388560157791, 0.9329388560157791, 0.9329388560157791, 0.9329388560157791, 0.9329388560157791, 0.9329388560157791, 0.9329388560157791, 0.9329388560157791, 0.9329388560157791, 0.9329388560157791, 0.9329388560157791, 0.9329388560157791, 0.9329388560157791, 0.9329388560157791, 0.9329388560157791, 0.9398422090729782, 0.9398422090729782, 0.9398422090729782, 0.9398422090729782, 0.9398422090729782]}], \"precision_score_macro\": [{\"categories\": [\"0\", \"2\", \"4\", \"8\", \"10\", \"15\", \"17\", \"20\", \"21\", \"22\", \"23\", \"25\", \"26\", \"27\", \"28\", \"29\", \"30\", \"31\", \"32\", \"33\", \"34\", \"35\", \"36\", \"37\", \"38\", \"39\", \"40\", \"41\", \"42\", \"44\"], \"mode\": \"markers\", \"name\": \"precision_score_macro\", \"stepped\": false, \"type\": \"scatter\", \"data\": [0.919537637340787, 0.8797033417603037, 0.8929672650387794, 0.9158799202844597, 0.8646573691992795, 0.9031114250015421, 0.8416862251185856, 0.8654885452188038, 0.8929708390225143, 0.9055055074915569, 0.8673178889854015, 0.36587771203155817, 0.8405024714646628, 0.8954971248445304, 0.8824553420279934, 0.88928792638555, 0.36587771203155817, 0.8996011626005477, 0.8790474649041343, 0.8747223871201418, 0.8794632494125403, 0.7027908509793761, 0.8999499246375265, 0.8849176103236943, 0.8505124084554097, 0.9300317342323857, 0.8744735686260787, 0.8621597888082109, 0.9195493963875512, 0.9269063649657485]}, {\"categories\": [\"0\", \"2\", \"4\", \"8\", \"10\", \"15\", \"17\", \"20\", \"21\", \"22\", \"23\", \"25\", \"26\", \"27\", \"28\", \"29\", \"30\", \"31\", \"32\", \"33\", \"34\", \"35\", \"36\", \"37\", \"38\", \"39\", \"40\", \"41\", \"42\", \"44\"], \"mode\": \"lines\", \"name\": \"precision_score_macro_max\", \"stepped\": true, \"type\": \"scatter\", \"data\": [0.919537637340787, 0.919537637340787, 0.919537637340787, 0.919537637340787, 0.919537637340787, 0.919537637340787, 0.919537637340787, 0.919537637340787, 0.919537637340787, 0.919537637340787, 0.919537637340787, 0.919537637340787, 0.919537637340787, 0.919537637340787, 0.919537637340787, 0.919537637340787, 0.919537637340787, 0.919537637340787, 0.919537637340787, 0.919537637340787, 0.919537637340787, 0.919537637340787, 0.919537637340787, 0.919537637340787, 0.919537637340787, 0.9300317342323857, 0.9300317342323857, 0.9300317342323857, 0.9300317342323857, 0.9300317342323857]}], \"balanced_accuracy\": [{\"categories\": [\"0\", \"2\", \"4\", \"8\", \"10\", \"15\", \"17\", \"20\", \"21\", \"22\", \"23\", \"25\", \"26\", \"27\", \"28\", \"29\", \"30\", \"31\", \"32\", \"33\", \"34\", \"35\", \"36\", \"37\", \"38\", \"39\", \"40\", \"41\", \"42\", \"44\"], \"mode\": \"markers\", \"name\": \"balanced_accuracy\", \"stepped\": false, \"type\": \"scatter\", \"data\": [0.909136102981634, 0.8603691795884637, 0.8378061017627978, 0.9010549160562258, 0.8498442911472971, 0.8113752006896616, 0.8889541337069188, 0.8654839334453811, 0.8823848077118527, 0.8935773259883968, 0.8713342917294901, 0.5, 0.8071093514347423, 0.8944726541557507, 0.8545877527689655, 0.8750053892444306, 0.5, 0.8901300670277513, 0.8729206006948248, 0.8237709601931918, 0.8781631022702007, 0.5172982815522932, 0.8280724669796512, 0.8868028450871588, 0.8393664614379057, 0.9158092190170191, 0.885091207571692, 0.8488612665497683, 0.901594629809189, 0.9090717226072794]}, {\"categories\": [\"0\", \"2\", \"4\", \"8\", \"10\", \"15\", \"17\", \"20\", \"21\", \"22\", \"23\", \"25\", \"26\", \"27\", \"28\", \"29\", \"30\", \"31\", \"32\", \"33\", \"34\", \"35\", \"36\", \"37\", \"38\", \"39\", \"40\", \"41\", \"42\", \"44\"], \"mode\": \"lines\", \"name\": \"balanced_accuracy_max\", \"stepped\": true, \"type\": \"scatter\", \"data\": [0.909136102981634, 0.909136102981634, 0.909136102981634, 0.909136102981634, 0.909136102981634, 0.909136102981634, 0.909136102981634, 0.909136102981634, 0.909136102981634, 0.909136102981634, 0.909136102981634, 0.909136102981634, 0.909136102981634, 0.909136102981634, 0.909136102981634, 0.909136102981634, 0.909136102981634, 0.909136102981634, 0.909136102981634, 0.909136102981634, 0.909136102981634, 0.909136102981634, 0.909136102981634, 0.909136102981634, 0.909136102981634, 0.9158092190170191, 0.9158092190170191, 0.9158092190170191, 0.9158092190170191, 0.9158092190170191]}], \"norm_macro_recall\": [{\"categories\": [\"0\", \"2\", \"4\", \"8\", \"10\", \"15\", \"17\", \"20\", \"21\", \"22\", \"23\", \"25\", \"26\", \"27\", \"28\", \"29\", \"30\", \"31\", \"32\", \"33\", \"34\", \"35\", \"36\", \"37\", \"38\", \"39\", \"40\", \"41\", \"42\", \"44\"], \"mode\": \"markers\", \"name\": \"norm_macro_recall\", \"stepped\": false, \"type\": \"scatter\", \"data\": [0.8182722059632681, 0.7207383591769275, 0.6756122035255956, 0.8021098321124517, 0.6996885822945944, 0.6227504013793234, 0.7779082674138377, 0.7309678668907621, 0.7647696154237055, 0.7871546519767936, 0.7426685834589802, 0.0, 0.6142187028694847, 0.7889453083115013, 0.7091755055379307, 0.7500107784888611, 0.0, 0.7802601340555025, 0.7458412013896497, 0.6475419203863838, 0.7563262045404014, 0.034596563104586364, 0.6561449339593025, 0.7736056901743176, 0.6787329228758114, 0.8316184380340378, 0.7701824151433841, 0.6977225330995367, 0.8031892596183777, 0.818143445214559]}, {\"categories\": [\"0\", \"2\", \"4\", \"8\", \"10\", \"15\", \"17\", \"20\", \"21\", \"22\", \"23\", \"25\", \"26\", \"27\", \"28\", \"29\", \"30\", \"31\", \"32\", \"33\", \"34\", \"35\", \"36\", \"37\", \"38\", \"39\", \"40\", \"41\", \"42\", \"44\"], \"mode\": \"lines\", \"name\": \"norm_macro_recall_max\", \"stepped\": true, \"type\": \"scatter\", \"data\": [0.8182722059632681, 0.8182722059632681, 0.8182722059632681, 0.8182722059632681, 0.8182722059632681, 0.8182722059632681, 0.8182722059632681, 0.8182722059632681, 0.8182722059632681, 0.8182722059632681, 0.8182722059632681, 0.8182722059632681, 0.8182722059632681, 0.8182722059632681, 0.8182722059632681, 0.8182722059632681, 0.8182722059632681, 0.8182722059632681, 0.8182722059632681, 0.8182722059632681, 0.8182722059632681, 0.8182722059632681, 0.8182722059632681, 0.8182722059632681, 0.8182722059632681, 0.8316184380340378, 0.8316184380340378, 0.8316184380340378, 0.8316184380340378, 0.8316184380340378]}], \"AUC_micro\": [{\"categories\": [\"0\", \"2\", \"4\", \"8\", \"10\", \"15\", \"17\", \"20\", \"21\", \"22\", \"23\", \"25\", \"26\", \"27\", \"28\", \"29\", \"30\", \"31\", \"32\", \"33\", \"34\", \"35\", \"36\", \"37\", \"38\", \"39\", \"40\", \"41\", \"42\", \"44\"], \"mode\": \"markers\", \"name\": \"AUC_micro\", \"stepped\": false, \"type\": \"scatter\", \"data\": [0.9806933697466241, 0.9638609759228784, 0.9576724671171645, 0.976847799446798, 0.9603071787869238, 0.9579584048177585, 0.9623174958859982, 0.9619586148944363, 0.9700494847285924, 0.9777785558395481, 0.9634320693719874, 0.878829522775813, 0.9460861547798279, 0.9731189384125205, 0.9652148034032422, 0.9712165773840784, 0.7317554240631164, 0.9752576357036985, 0.9615180374169904, 0.9559043217441032, 0.9646633521235252, 0.892487424576637, 0.9608557123350022, 0.9720102003898089, 0.9644766172986473, 0.9803053114386749, 0.9705980182766708, 0.9669800310446646, 0.9793424599978993, 0.985636007142607]}, {\"categories\": [\"0\", \"2\", \"4\", \"8\", \"10\", \"15\", \"17\", \"20\", \"21\", \"22\", \"23\", \"25\", \"26\", \"27\", \"28\", \"29\", \"30\", \"31\", \"32\", \"33\", \"34\", \"35\", \"36\", \"37\", \"38\", \"39\", \"40\", \"41\", \"42\", \"44\"], \"mode\": \"lines\", \"name\": \"AUC_micro_max\", \"stepped\": true, \"type\": \"scatter\", \"data\": [0.9806933697466241, 0.9806933697466241, 0.9806933697466241, 0.9806933697466241, 0.9806933697466241, 0.9806933697466241, 0.9806933697466241, 0.9806933697466241, 0.9806933697466241, 0.9806933697466241, 0.9806933697466241, 0.9806933697466241, 0.9806933697466241, 0.9806933697466241, 0.9806933697466241, 0.9806933697466241, 0.9806933697466241, 0.9806933697466241, 0.9806933697466241, 0.9806933697466241, 0.9806933697466241, 0.9806933697466241, 0.9806933697466241, 0.9806933697466241, 0.9806933697466241, 0.9806933697466241, 0.9806933697466241, 0.9806933697466241, 0.9806933697466241, 0.985636007142607]}], \"matthews_correlation\": [{\"categories\": [\"0\", \"2\", \"4\", \"8\", \"10\", \"15\", \"17\", \"20\", \"21\", \"22\", \"23\", \"25\", \"26\", \"27\", \"28\", \"29\", \"30\", \"31\", \"32\", \"33\", \"34\", \"35\", \"36\", \"37\", \"38\", \"39\", \"40\", \"41\", \"42\", \"44\"], \"mode\": \"markers\", \"name\": \"matthews_correlation\", \"stepped\": false, \"type\": \"scatter\", \"data\": [0.82837882553674, 0.739706316242931, 0.7253515166860041, 0.8166711704962936, 0.713974542927482, 0.7085301107206102, 0.7288642711895122, 0.7305694078806867, 0.7752587812834156, 0.7988509299301881, 0.7384321710759331, 0.0, 0.6462427978074601, 0.7899414950312268, 0.7364776178541397, 0.7641041990294927, 0.0, 0.7895091203207438, 0.751826269361227, 0.6962158319729937, 0.7575589734486265, 0.1278342160126197, 0.7238460849462719, 0.7716158781905196, 0.6893800789441981, 0.8455407621169461, 0.7594638440536664, 0.7106310749215741, 0.8205496029097202, 0.8355888249634171]}, {\"categories\": [\"0\", \"2\", \"4\", \"8\", \"10\", \"15\", \"17\", \"20\", \"21\", \"22\", \"23\", \"25\", \"26\", \"27\", \"28\", \"29\", \"30\", \"31\", \"32\", \"33\", \"34\", \"35\", \"36\", \"37\", \"38\", \"39\", \"40\", \"41\", \"42\", \"44\"], \"mode\": \"lines\", \"name\": \"matthews_correlation_max\", \"stepped\": true, \"type\": \"scatter\", \"data\": [0.82837882553674, 0.82837882553674, 0.82837882553674, 0.82837882553674, 0.82837882553674, 0.82837882553674, 0.82837882553674, 0.82837882553674, 0.82837882553674, 0.82837882553674, 0.82837882553674, 0.82837882553674, 0.82837882553674, 0.82837882553674, 0.82837882553674, 0.82837882553674, 0.82837882553674, 0.82837882553674, 0.82837882553674, 0.82837882553674, 0.82837882553674, 0.82837882553674, 0.82837882553674, 0.82837882553674, 0.82837882553674, 0.8455407621169461, 0.8455407621169461, 0.8455407621169461, 0.8455407621169461, 0.8455407621169461]}], \"AUC_weighted\": [{\"categories\": [\"0\", \"2\", \"4\", \"8\", \"10\", \"15\", \"17\", \"20\", \"21\", \"22\", \"23\", \"25\", \"26\", \"27\", \"28\", \"29\", \"30\", \"31\", \"32\", \"33\", \"34\", \"35\", \"36\", \"37\", \"38\", \"39\", \"40\", \"41\", \"42\", \"44\"], \"mode\": \"markers\", \"name\": \"AUC_weighted\", \"stepped\": false, \"type\": \"scatter\", \"data\": [0.9723938790030301, 0.9523513858477602, 0.9460875775175829, 0.9683276153706698, 0.9460334613142019, 0.9592477060049762, 0.9618545581585073, 0.9532869376830582, 0.9592035807970749, 0.9686324617752781, 0.9553573483417175, 0.8749971098147182, 0.9287303596288762, 0.962090513310558, 0.9528726369813686, 0.9604572252199416, 0.5, 0.9669778991506851, 0.9494445887282592, 0.9444020895602815, 0.9525515893380198, 0.9083083050226858, 0.9511565559356483, 0.9624924148443185, 0.9528309192432994, 0.971823692827397, 0.9607730941818069, 0.9554983788572359, 0.9703117568977877, 0.9818135390923198]}, {\"categories\": [\"0\", \"2\", \"4\", \"8\", \"10\", \"15\", \"17\", \"20\", \"21\", \"22\", \"23\", \"25\", \"26\", \"27\", \"28\", \"29\", \"30\", \"31\", \"32\", \"33\", \"34\", \"35\", \"36\", \"37\", \"38\", \"39\", \"40\", \"41\", \"42\", \"44\"], \"mode\": \"lines\", \"name\": \"AUC_weighted_max\", \"stepped\": true, \"type\": \"scatter\", \"data\": [0.9723938790030301, 0.9723938790030301, 0.9723938790030301, 0.9723938790030301, 0.9723938790030301, 0.9723938790030301, 0.9723938790030301, 0.9723938790030301, 0.9723938790030301, 0.9723938790030301, 0.9723938790030301, 0.9723938790030301, 0.9723938790030301, 0.9723938790030301, 0.9723938790030301, 0.9723938790030301, 0.9723938790030301, 0.9723938790030301, 0.9723938790030301, 0.9723938790030301, 0.9723938790030301, 0.9723938790030301, 0.9723938790030301, 0.9723938790030301, 0.9723938790030301, 0.9723938790030301, 0.9723938790030301, 0.9723938790030301, 0.9723938790030301, 0.9818135390923198]}], \"average_precision_score_macro\": [{\"categories\": [\"0\", \"2\", \"4\", \"8\", \"10\", \"15\", \"17\", \"20\", \"21\", \"22\", \"23\", \"25\", \"26\", \"27\", \"28\", \"29\", \"30\", \"31\", \"32\", \"33\", \"34\", \"35\", \"36\", \"37\", \"38\", \"39\", \"40\", \"41\", \"42\", \"44\"], \"mode\": \"markers\", \"name\": \"average_precision_score_macro\", \"stepped\": false, \"type\": \"scatter\", \"data\": [0.9693544998832423, 0.9349045532618288, 0.9303459888722911, 0.9609607600256646, 0.927024816118298, 0.944426622031755, 0.9478552989478125, 0.9377099779490209, 0.9501295194335201, 0.9611412163773977, 0.9377605299766468, 0.8345639283746, 0.9074504390388417, 0.9522309494320575, 0.9348732721072968, 0.9516520708297783, 0.5, 0.9589411367396875, 0.9375886624892716, 0.9310130231000256, 0.9369696922565466, 0.8742459673142037, 0.9380196905907017, 0.9537215508416752, 0.9377310623678277, 0.9676167034003602, 0.9504273340924114, 0.9423451621702498, 0.9643692034858523, 0.974889211619922]}, {\"categories\": [\"0\", \"2\", \"4\", \"8\", \"10\", \"15\", \"17\", \"20\", \"21\", \"22\", \"23\", \"25\", \"26\", \"27\", \"28\", \"29\", \"30\", \"31\", \"32\", \"33\", \"34\", \"35\", \"36\", \"37\", \"38\", \"39\", \"40\", \"41\", \"42\", \"44\"], \"mode\": \"lines\", \"name\": \"average_precision_score_macro_max\", \"stepped\": true, \"type\": \"scatter\", \"data\": [0.9693544998832423, 0.9693544998832423, 0.9693544998832423, 0.9693544998832423, 0.9693544998832423, 0.9693544998832423, 0.9693544998832423, 0.9693544998832423, 0.9693544998832423, 0.9693544998832423, 0.9693544998832423, 0.9693544998832423, 0.9693544998832423, 0.9693544998832423, 0.9693544998832423, 0.9693544998832423, 0.9693544998832423, 0.9693544998832423, 0.9693544998832423, 0.9693544998832423, 0.9693544998832423, 0.9693544998832423, 0.9693544998832423, 0.9693544998832423, 0.9693544998832423, 0.9693544998832423, 0.9693544998832423, 0.9693544998832423, 0.9693544998832423, 0.974889211619922]}], \"weighted_accuracy\": [{\"categories\": [\"0\", \"2\", \"4\", \"8\", \"10\", \"15\", \"17\", \"20\", \"21\", \"22\", \"23\", \"25\", \"26\", \"27\", \"28\", \"29\", \"30\", \"31\", \"32\", \"33\", \"34\", \"35\", \"36\", \"37\", \"38\", \"39\", \"40\", \"41\", \"42\", \"44\"], \"mode\": \"markers\", \"name\": \"weighted_accuracy\", \"stepped\": false, \"type\": \"scatter\", \"data\": [0.9486970655525219, 0.9254649905005059, 0.9331808392779939, 0.9471690317896204, 0.9164318893961751, 0.9409923988215892, 0.8757311673911249, 0.9121705634177548, 0.9329723494325955, 0.9405379014893813, 0.9130019569096618, 0.8801532642659405, 0.9046502350983622, 0.9331352871549524, 0.9292559200416287, 0.9312640503451118, 0.8801532642659405, 0.9363707747966908, 0.9230707230865435, 0.9252071682710902, 0.9223161864037875, 0.8849368838087855, 0.9389503033641938, 0.925071340990247, 0.9057888333807401, 0.9556145231596457, 0.916433319914805, 0.9138736724340552, 0.9487978962450315, 0.9536249440823967]}, {\"categories\": [\"0\", \"2\", \"4\", \"8\", \"10\", \"15\", \"17\", \"20\", \"21\", \"22\", \"23\", \"25\", \"26\", \"27\", \"28\", \"29\", \"30\", \"31\", \"32\", \"33\", \"34\", \"35\", \"36\", \"37\", \"38\", \"39\", \"40\", \"41\", \"42\", \"44\"], \"mode\": \"lines\", \"name\": \"weighted_accuracy_max\", \"stepped\": true, \"type\": \"scatter\", \"data\": [0.9486970655525219, 0.9486970655525219, 0.9486970655525219, 0.9486970655525219, 0.9486970655525219, 0.9486970655525219, 0.9486970655525219, 0.9486970655525219, 0.9486970655525219, 0.9486970655525219, 0.9486970655525219, 0.9486970655525219, 0.9486970655525219, 0.9486970655525219, 0.9486970655525219, 0.9486970655525219, 0.9486970655525219, 0.9486970655525219, 0.9486970655525219, 0.9486970655525219, 0.9486970655525219, 0.9486970655525219, 0.9486970655525219, 0.9486970655525219, 0.9486970655525219, 0.9556145231596457, 0.9556145231596457, 0.9556145231596457, 0.9556145231596457, 0.9556145231596457]}], \"AUC_macro\": [{\"categories\": [\"0\", \"2\", \"4\", \"8\", \"10\", \"15\", \"17\", \"20\", \"21\", \"22\", \"23\", \"25\", \"26\", \"27\", \"28\", \"29\", \"30\", \"31\", \"32\", \"33\", \"34\", \"35\", \"36\", \"37\", \"38\", \"39\", \"40\", \"41\", \"42\", \"44\"], \"mode\": \"markers\", \"name\": \"AUC_macro\", \"stepped\": false, \"type\": \"scatter\", \"data\": [0.9723938790030301, 0.9523513858477605, 0.9460875775175829, 0.9683276153706698, 0.9460334613142019, 0.9592477060049762, 0.9618545581585073, 0.953286937683058, 0.9592035807970749, 0.9686324617752781, 0.9553573483417175, 0.8749971098147181, 0.9287303596288762, 0.962090513310558, 0.9528726369813686, 0.9604572252199416, 0.5, 0.966977899150685, 0.9494445887282591, 0.9444020895602815, 0.9525515893380198, 0.9083083050226858, 0.9511565559356483, 0.9624924148443185, 0.9528309192432994, 0.971823692827397, 0.9607730941818069, 0.9554983788572359, 0.9703117568977877, 0.9818135390923198]}, {\"categories\": [\"0\", \"2\", \"4\", \"8\", \"10\", \"15\", \"17\", \"20\", \"21\", \"22\", \"23\", \"25\", \"26\", \"27\", \"28\", \"29\", \"30\", \"31\", \"32\", \"33\", \"34\", \"35\", \"36\", \"37\", \"38\", \"39\", \"40\", \"41\", \"42\", \"44\"], \"mode\": \"lines\", \"name\": \"AUC_macro_max\", \"stepped\": true, \"type\": \"scatter\", \"data\": [0.9723938790030301, 0.9723938790030301, 0.9723938790030301, 0.9723938790030301, 0.9723938790030301, 0.9723938790030301, 0.9723938790030301, 0.9723938790030301, 0.9723938790030301, 0.9723938790030301, 0.9723938790030301, 0.9723938790030301, 0.9723938790030301, 0.9723938790030301, 0.9723938790030301, 0.9723938790030301, 0.9723938790030301, 0.9723938790030301, 0.9723938790030301, 0.9723938790030301, 0.9723938790030301, 0.9723938790030301, 0.9723938790030301, 0.9723938790030301, 0.9723938790030301, 0.9723938790030301, 0.9723938790030301, 0.9723938790030301, 0.9723938790030301, 0.9818135390923198]}], \"recall_score_weighted\": [{\"categories\": [\"0\", \"2\", \"4\", \"8\", \"10\", \"15\", \"17\", \"20\", \"21\", \"22\", \"23\", \"25\", \"26\", \"27\", \"28\", \"29\", \"30\", \"31\", \"32\", \"33\", \"34\", \"35\", \"36\", \"37\", \"38\", \"39\", \"40\", \"41\", \"42\", \"44\"], \"mode\": \"markers\", \"name\": \"recall_score_weighted\", \"stepped\": false, \"type\": \"scatter\", \"data\": [0.9329388560157791, 0.9003944773175542, 0.8964497041420119, 0.9289940828402367, 0.8905325443786983, 0.8905325443786983, 0.8806706114398422, 0.893491124260355, 0.9132149901380671, 0.9220907297830375, 0.8964497041420119, 0.7317554240631163, 0.8668639053254438, 0.9181459566074951, 0.9003944773175542, 0.9092702169625246, 0.7317554240631163, 0.9181459566074951, 0.9033530571992111, 0.8856015779092702, 0.9053254437869822, 0.7416173570019723, 0.8954635108481263, 0.9102564102564102, 0.8796844181459567, 0.9398422090729782, 0.9043392504930966, 0.888560157790927, 0.9299802761341223, 0.9358974358974358]}, {\"categories\": [\"0\", \"2\", \"4\", \"8\", \"10\", \"15\", \"17\", \"20\", \"21\", \"22\", \"23\", \"25\", \"26\", \"27\", \"28\", \"29\", \"30\", \"31\", \"32\", \"33\", \"34\", \"35\", \"36\", \"37\", \"38\", \"39\", \"40\", \"41\", \"42\", \"44\"], \"mode\": \"lines\", \"name\": \"recall_score_weighted_max\", \"stepped\": true, \"type\": \"scatter\", \"data\": [0.9329388560157791, 0.9329388560157791, 0.9329388560157791, 0.9329388560157791, 0.9329388560157791, 0.9329388560157791, 0.9329388560157791, 0.9329388560157791, 0.9329388560157791, 0.9329388560157791, 0.9329388560157791, 0.9329388560157791, 0.9329388560157791, 0.9329388560157791, 0.9329388560157791, 0.9329388560157791, 0.9329388560157791, 0.9329388560157791, 0.9329388560157791, 0.9329388560157791, 0.9329388560157791, 0.9329388560157791, 0.9329388560157791, 0.9329388560157791, 0.9329388560157791, 0.9398422090729782, 0.9398422090729782, 0.9398422090729782, 0.9398422090729782, 0.9398422090729782]}], \"precision_score_weighted\": [{\"categories\": [\"0\", \"2\", \"4\", \"8\", \"10\", \"15\", \"17\", \"20\", \"21\", \"22\", \"23\", \"25\", \"26\", \"27\", \"28\", \"29\", \"30\", \"31\", \"32\", \"33\", \"34\", \"35\", \"36\", \"37\", \"38\", \"39\", \"40\", \"41\", \"42\", \"44\"], \"mode\": \"markers\", \"name\": \"precision_score_weighted\", \"stepped\": false, \"type\": \"scatter\", \"data\": [0.933249991478338, 0.8988976447642466, 0.8989749116712634, 0.9288537012630598, 0.8893870304317897, 0.8940757442182576, 0.8983852470470094, 0.8948572428166072, 0.9125326894303512, 0.9221122237951637, 0.8976839936735029, 0.5359464537889663, 0.864050975875046, 0.9182660797326666, 0.8984007344030219, 0.9085885671978818, 0.5359464537889663, 0.9181855589499403, 0.9031984362433079, 0.8847809527853943, 0.9055130827425982, 0.7264628109077643, 0.8978414326368546, 0.9109086914666408, 0.8791614549172041, 0.9398907358318865, 0.9061537080041292, 0.8875094421235755, 0.9309221901670354, 0.9359892584221837]}, {\"categories\": [\"0\", \"2\", \"4\", \"8\", \"10\", \"15\", \"17\", \"20\", \"21\", \"22\", \"23\", \"25\", \"26\", \"27\", \"28\", \"29\", \"30\", \"31\", \"32\", \"33\", \"34\", \"35\", \"36\", \"37\", \"38\", \"39\", \"40\", \"41\", \"42\", \"44\"], \"mode\": \"lines\", \"name\": \"precision_score_weighted_max\", \"stepped\": true, \"type\": \"scatter\", \"data\": [0.933249991478338, 0.933249991478338, 0.933249991478338, 0.933249991478338, 0.933249991478338, 0.933249991478338, 0.933249991478338, 0.933249991478338, 0.933249991478338, 0.933249991478338, 0.933249991478338, 0.933249991478338, 0.933249991478338, 0.933249991478338, 0.933249991478338, 0.933249991478338, 0.933249991478338, 0.933249991478338, 0.933249991478338, 0.933249991478338, 0.933249991478338, 0.933249991478338, 0.933249991478338, 0.933249991478338, 0.933249991478338, 0.9398907358318865, 0.9398907358318865, 0.9398907358318865, 0.9398907358318865, 0.9398907358318865]}], \"log_loss\": [{\"categories\": [\"0\", \"2\", \"4\", \"8\", \"10\", \"15\", \"17\", \"20\", \"21\", \"22\", \"23\", \"25\", \"26\", \"27\", \"28\", \"29\", \"30\", \"31\", \"32\", \"33\", \"34\", \"35\", \"36\", \"37\", \"38\", \"39\", \"40\", \"41\", \"42\", \"44\"], \"mode\": \"markers\", \"name\": \"log_loss\", \"stepped\": false, \"type\": \"scatter\", \"data\": [0.17627391726101013, 0.2780581305354877, 0.29842676632565285, 0.2028256481663491, 0.27312883355188494, 0.3215220161587132, 0.2711882878528109, 0.4219512678605523, 0.2544181421690565, 0.19026365831411599, 0.36696410914900124, 0.4673980051632778, 0.3177803152083086, 0.2110244810903599, 0.25385249485928024, 0.34108828481462133, 0.5830167692523007, 0.2277422549307856, 0.6764329192711357, 0.2989729311993452, 0.25051323650810825, 0.45905777828650846, 0.2675870913570595, 0.22167938988247982, 0.2938223882879772, 0.17166569543401847, 0.22368281464134585, 0.22980369584824376, 0.18315527202818294, 0.18163475059732317]}, {\"categories\": [\"0\", \"2\", \"4\", \"8\", \"10\", \"15\", \"17\", \"20\", \"21\", \"22\", \"23\", \"25\", \"26\", \"27\", \"28\", \"29\", \"30\", \"31\", \"32\", \"33\", \"34\", \"35\", \"36\", \"37\", \"38\", \"39\", \"40\", \"41\", \"42\", \"44\"], \"mode\": \"lines\", \"name\": \"log_loss_min\", \"stepped\": true, \"type\": \"scatter\", \"data\": [0.17627391726101013, 0.17627391726101013, 0.17627391726101013, 0.17627391726101013, 0.17627391726101013, 0.17627391726101013, 0.17627391726101013, 0.17627391726101013, 0.17627391726101013, 0.17627391726101013, 0.17627391726101013, 0.17627391726101013, 0.17627391726101013, 0.17627391726101013, 0.17627391726101013, 0.17627391726101013, 0.17627391726101013, 0.17627391726101013, 0.17627391726101013, 0.17627391726101013, 0.17627391726101013, 0.17627391726101013, 0.17627391726101013, 0.17627391726101013, 0.17627391726101013, 0.17166569543401847, 0.17166569543401847, 0.17166569543401847, 0.17166569543401847, 0.17166569543401847]}], \"recall_score_micro\": [{\"categories\": [\"0\", \"2\", \"4\", \"8\", \"10\", \"15\", \"17\", \"20\", \"21\", \"22\", \"23\", \"25\", \"26\", \"27\", \"28\", \"29\", \"30\", \"31\", \"32\", \"33\", \"34\", \"35\", \"36\", \"37\", \"38\", \"39\", \"40\", \"41\", \"42\", \"44\"], \"mode\": \"markers\", \"name\": \"recall_score_micro\", \"stepped\": false, \"type\": \"scatter\", \"data\": [0.9329388560157791, 0.9003944773175542, 0.8964497041420119, 0.9289940828402367, 0.8905325443786983, 0.8905325443786983, 0.8806706114398422, 0.893491124260355, 0.9132149901380671, 0.9220907297830375, 0.8964497041420119, 0.7317554240631163, 0.8668639053254438, 0.9181459566074951, 0.9003944773175542, 0.9092702169625246, 0.7317554240631163, 0.9181459566074951, 0.9033530571992111, 0.8856015779092702, 0.9053254437869822, 0.7416173570019723, 0.8954635108481263, 0.9102564102564102, 0.8796844181459567, 0.9398422090729782, 0.9043392504930966, 0.888560157790927, 0.9299802761341223, 0.9358974358974358]}, {\"categories\": [\"0\", \"2\", \"4\", \"8\", \"10\", \"15\", \"17\", \"20\", \"21\", \"22\", \"23\", \"25\", \"26\", \"27\", \"28\", \"29\", \"30\", \"31\", \"32\", \"33\", \"34\", \"35\", \"36\", \"37\", \"38\", \"39\", \"40\", \"41\", \"42\", \"44\"], \"mode\": \"lines\", \"name\": \"recall_score_micro_max\", \"stepped\": true, \"type\": \"scatter\", \"data\": [0.9329388560157791, 0.9329388560157791, 0.9329388560157791, 0.9329388560157791, 0.9329388560157791, 0.9329388560157791, 0.9329388560157791, 0.9329388560157791, 0.9329388560157791, 0.9329388560157791, 0.9329388560157791, 0.9329388560157791, 0.9329388560157791, 0.9329388560157791, 0.9329388560157791, 0.9329388560157791, 0.9329388560157791, 0.9329388560157791, 0.9329388560157791, 0.9329388560157791, 0.9329388560157791, 0.9329388560157791, 0.9329388560157791, 0.9329388560157791, 0.9329388560157791, 0.9398422090729782, 0.9398422090729782, 0.9398422090729782, 0.9398422090729782, 0.9398422090729782]}], \"f1_score_macro\": [{\"categories\": [\"0\", \"2\", \"4\", \"8\", \"10\", \"15\", \"17\", \"20\", \"21\", \"22\", \"23\", \"25\", \"26\", \"27\", \"28\", \"29\", \"30\", \"31\", \"32\", \"33\", \"34\", \"35\", \"36\", \"37\", \"38\", \"39\", \"40\", \"41\", \"42\", \"44\"], \"mode\": \"markers\", \"name\": \"f1_score_macro\", \"stepped\": false, \"type\": \"scatter\", \"data\": [0.9133968462640175, 0.8690972997987574, 0.8543123117630383, 0.9076149753476516, 0.8558123007109791, 0.843162070540196, 0.8582036994846162, 0.8641654261011773, 0.8873483302721211, 0.8987894413940237, 0.8686258712319465, 0.42245799242809645, 0.8203225098000132, 0.8948999985427757, 0.8669910096066197, 0.8815205778653886, 0.42245799242809645, 0.8941318602215621, 0.8754942408390751, 0.8433593602536907, 0.878607353553725, 0.4575944561267191, 0.8536727210834204, 0.8855575439540008, 0.8434532724730569, 0.9220123383373412, 0.8794423652096889, 0.8544471922332212, 0.9087574749861966, 0.9167662479990715]}, {\"categories\": [\"0\", \"2\", \"4\", \"8\", \"10\", \"15\", \"17\", \"20\", \"21\", \"22\", \"23\", \"25\", \"26\", \"27\", \"28\", \"29\", \"30\", \"31\", \"32\", \"33\", \"34\", \"35\", \"36\", \"37\", \"38\", \"39\", \"40\", \"41\", \"42\", \"44\"], \"mode\": \"lines\", \"name\": \"f1_score_macro_max\", \"stepped\": true, \"type\": \"scatter\", \"data\": [0.9133968462640175, 0.9133968462640175, 0.9133968462640175, 0.9133968462640175, 0.9133968462640175, 0.9133968462640175, 0.9133968462640175, 0.9133968462640175, 0.9133968462640175, 0.9133968462640175, 0.9133968462640175, 0.9133968462640175, 0.9133968462640175, 0.9133968462640175, 0.9133968462640175, 0.9133968462640175, 0.9133968462640175, 0.9133968462640175, 0.9133968462640175, 0.9133968462640175, 0.9133968462640175, 0.9133968462640175, 0.9133968462640175, 0.9133968462640175, 0.9133968462640175, 0.9220123383373412, 0.9220123383373412, 0.9220123383373412, 0.9220123383373412, 0.9220123383373412]}], \"f1_score_weighted\": [{\"categories\": [\"0\", \"2\", \"4\", \"8\", \"10\", \"15\", \"17\", \"20\", \"21\", \"22\", \"23\", \"25\", \"26\", \"27\", \"28\", \"29\", \"30\", \"31\", \"32\", \"33\", \"34\", \"35\", \"36\", \"37\", \"38\", \"39\", \"40\", \"41\", \"42\", \"44\"], \"mode\": \"markers\", \"name\": \"f1_score_weighted\", \"stepped\": false, \"type\": \"scatter\", \"data\": [0.9324394898528415, 0.899076678927571, 0.891214081784606, 0.9283234713966584, 0.8890540388724396, 0.8835510390323468, 0.8847031433210413, 0.8932800299305629, 0.9126412735703329, 0.9215732685238351, 0.8966088511318698, 0.6185948632700397, 0.8632980952444456, 0.9181511209806268, 0.8984362415758822, 0.9084883814472259, 0.6185948632700397, 0.9176482711860866, 0.9029279710080408, 0.8814282146255615, 0.9052835767990431, 0.6406811626053611, 0.8900326323707142, 0.9103905408582932, 0.8784559222515934, 0.9392519032152215, 0.9050183202555401, 0.8873657010580308, 0.929177203097039, 0.9350900605012252]}, {\"categories\": [\"0\", \"2\", \"4\", \"8\", \"10\", \"15\", \"17\", \"20\", \"21\", \"22\", \"23\", \"25\", \"26\", \"27\", \"28\", \"29\", \"30\", \"31\", \"32\", \"33\", \"34\", \"35\", \"36\", \"37\", \"38\", \"39\", \"40\", \"41\", \"42\", \"44\"], \"mode\": \"lines\", \"name\": \"f1_score_weighted_max\", \"stepped\": true, \"type\": \"scatter\", \"data\": [0.9324394898528415, 0.9324394898528415, 0.9324394898528415, 0.9324394898528415, 0.9324394898528415, 0.9324394898528415, 0.9324394898528415, 0.9324394898528415, 0.9324394898528415, 0.9324394898528415, 0.9324394898528415, 0.9324394898528415, 0.9324394898528415, 0.9324394898528415, 0.9324394898528415, 0.9324394898528415, 0.9324394898528415, 0.9324394898528415, 0.9324394898528415, 0.9324394898528415, 0.9324394898528415, 0.9324394898528415, 0.9324394898528415, 0.9324394898528415, 0.9324394898528415, 0.9392519032152215, 0.9392519032152215, 0.9392519032152215, 0.9392519032152215, 0.9392519032152215]}], \"average_precision_score_weighted\": [{\"categories\": [\"0\", \"2\", \"4\", \"8\", \"10\", \"15\", \"17\", \"20\", \"21\", \"22\", \"23\", \"25\", \"26\", \"27\", \"28\", \"29\", \"30\", \"31\", \"32\", \"33\", \"34\", \"35\", \"36\", \"37\", \"38\", \"39\", \"40\", \"41\", \"42\", \"44\"], \"mode\": \"markers\", \"name\": \"average_precision_score_weighted\", \"stepped\": false, \"type\": \"scatter\", \"data\": [0.9774327582275043, 0.9558512128070035, 0.9513984601001689, 0.9718865135545723, 0.9508446645249089, 0.963275476330797, 0.965237937324659, 0.9570825274799318, 0.9642428182179265, 0.9735059847489511, 0.9558868572133062, 0.8840960306338045, 0.936016780748777, 0.9672973874537792, 0.953717491594266, 0.9656517154957424, 0.6083820594516999, 0.9709159602535422, 0.954816685877042, 0.951604238202103, 0.9572153573452945, 0.917439693142294, 0.9551459098754796, 0.9678726730488285, 0.9577394702460293, 0.9765672863905225, 0.9662687620289495, 0.9606528837339036, 0.9749400946193548, 0.983473358651151]}, {\"categories\": [\"0\", \"2\", \"4\", \"8\", \"10\", \"15\", \"17\", \"20\", \"21\", \"22\", \"23\", \"25\", \"26\", \"27\", \"28\", \"29\", \"30\", \"31\", \"32\", \"33\", \"34\", \"35\", \"36\", \"37\", \"38\", \"39\", \"40\", \"41\", \"42\", \"44\"], \"mode\": \"lines\", \"name\": \"average_precision_score_weighted_max\", \"stepped\": true, \"type\": \"scatter\", \"data\": [0.9774327582275043, 0.9774327582275043, 0.9774327582275043, 0.9774327582275043, 0.9774327582275043, 0.9774327582275043, 0.9774327582275043, 0.9774327582275043, 0.9774327582275043, 0.9774327582275043, 0.9774327582275043, 0.9774327582275043, 0.9774327582275043, 0.9774327582275043, 0.9774327582275043, 0.9774327582275043, 0.9774327582275043, 0.9774327582275043, 0.9774327582275043, 0.9774327582275043, 0.9774327582275043, 0.9774327582275043, 0.9774327582275043, 0.9774327582275043, 0.9774327582275043, 0.9774327582275043, 0.9774327582275043, 0.9774327582275043, 0.9774327582275043, 0.983473358651151]}], \"precision_score_micro\": [{\"categories\": [\"0\", \"2\", \"4\", \"8\", \"10\", \"15\", \"17\", \"20\", \"21\", \"22\", \"23\", \"25\", \"26\", \"27\", \"28\", \"29\", \"30\", \"31\", \"32\", \"33\", \"34\", \"35\", \"36\", \"37\", \"38\", \"39\", \"40\", \"41\", \"42\", \"44\"], \"mode\": \"markers\", \"name\": \"precision_score_micro\", \"stepped\": false, \"type\": \"scatter\", \"data\": [0.9329388560157791, 0.9003944773175542, 0.8964497041420119, 0.9289940828402367, 0.8905325443786983, 0.8905325443786983, 0.8806706114398422, 0.893491124260355, 0.9132149901380671, 0.9220907297830375, 0.8964497041420119, 0.7317554240631163, 0.8668639053254438, 0.9181459566074951, 0.9003944773175542, 0.9092702169625246, 0.7317554240631163, 0.9181459566074951, 0.9033530571992111, 0.8856015779092702, 0.9053254437869822, 0.7416173570019723, 0.8954635108481263, 0.9102564102564102, 0.8796844181459567, 0.9398422090729782, 0.9043392504930966, 0.888560157790927, 0.9299802761341223, 0.9358974358974358]}, {\"categories\": [\"0\", \"2\", \"4\", \"8\", \"10\", \"15\", \"17\", \"20\", \"21\", \"22\", \"23\", \"25\", \"26\", \"27\", \"28\", \"29\", \"30\", \"31\", \"32\", \"33\", \"34\", \"35\", \"36\", \"37\", \"38\", \"39\", \"40\", \"41\", \"42\", \"44\"], \"mode\": \"lines\", \"name\": \"precision_score_micro_max\", \"stepped\": true, \"type\": \"scatter\", \"data\": [0.9329388560157791, 0.9329388560157791, 0.9329388560157791, 0.9329388560157791, 0.9329388560157791, 0.9329388560157791, 0.9329388560157791, 0.9329388560157791, 0.9329388560157791, 0.9329388560157791, 0.9329388560157791, 0.9329388560157791, 0.9329388560157791, 0.9329388560157791, 0.9329388560157791, 0.9329388560157791, 0.9329388560157791, 0.9329388560157791, 0.9329388560157791, 0.9329388560157791, 0.9329388560157791, 0.9329388560157791, 0.9329388560157791, 0.9329388560157791, 0.9329388560157791, 0.9398422090729782, 0.9398422090729782, 0.9398422090729782, 0.9398422090729782, 0.9398422090729782]}], \"average_precision_score_micro\": [{\"categories\": [\"0\", \"2\", \"4\", \"8\", \"10\", \"15\", \"17\", \"20\", \"21\", \"22\", \"23\", \"25\", \"26\", \"27\", \"28\", \"29\", \"30\", \"31\", \"32\", \"33\", \"34\", \"35\", \"36\", \"37\", \"38\", \"39\", \"40\", \"41\", \"42\", \"44\"], \"mode\": \"markers\", \"name\": \"average_precision_score_micro\", \"stepped\": false, \"type\": \"scatter\", \"data\": [0.9793691934996334, 0.9631116938702643, 0.9562415493682828, 0.9745880285760989, 0.959692250339911, 0.9589931075198715, 0.9629238048806785, 0.9599062382522289, 0.9676836283134382, 0.9781365933379821, 0.9595372290858567, 0.8788574098881824, 0.9443703590309139, 0.9731959897001551, 0.9600269391840701, 0.9694028692575442, 0.670068741757408, 0.973720889892366, 0.9576340353326169, 0.9553059635880832, 0.9640312106374546, 0.8999822534429436, 0.9582689146996312, 0.9713904081016941, 0.9648768454814259, 0.9794898390760691, 0.9707518443691182, 0.9678158969333426, 0.9789993178869799, 0.9859201126334819]}, {\"categories\": [\"0\", \"2\", \"4\", \"8\", \"10\", \"15\", \"17\", \"20\", \"21\", \"22\", \"23\", \"25\", \"26\", \"27\", \"28\", \"29\", \"30\", \"31\", \"32\", \"33\", \"34\", \"35\", \"36\", \"37\", \"38\", \"39\", \"40\", \"41\", \"42\", \"44\"], \"mode\": \"lines\", \"name\": \"average_precision_score_micro_max\", \"stepped\": true, \"type\": \"scatter\", \"data\": [0.9793691934996334, 0.9793691934996334, 0.9793691934996334, 0.9793691934996334, 0.9793691934996334, 0.9793691934996334, 0.9793691934996334, 0.9793691934996334, 0.9793691934996334, 0.9793691934996334, 0.9793691934996334, 0.9793691934996334, 0.9793691934996334, 0.9793691934996334, 0.9793691934996334, 0.9793691934996334, 0.9793691934996334, 0.9793691934996334, 0.9793691934996334, 0.9793691934996334, 0.9793691934996334, 0.9793691934996334, 0.9793691934996334, 0.9793691934996334, 0.9793691934996334, 0.9794898390760691, 0.9794898390760691, 0.9794898390760691, 0.9794898390760691, 0.9859201126334819]}], \"f1_score_micro\": [{\"categories\": [\"0\", \"2\", \"4\", \"8\", \"10\", \"15\", \"17\", \"20\", \"21\", \"22\", \"23\", \"25\", \"26\", \"27\", \"28\", \"29\", \"30\", \"31\", \"32\", \"33\", \"34\", \"35\", \"36\", \"37\", \"38\", \"39\", \"40\", \"41\", \"42\", \"44\"], \"mode\": \"markers\", \"name\": \"f1_score_micro\", \"stepped\": false, \"type\": \"scatter\", \"data\": [0.9329388560157791, 0.9003944773175542, 0.8964497041420119, 0.9289940828402367, 0.8905325443786983, 0.8905325443786983, 0.8806706114398422, 0.893491124260355, 0.9132149901380671, 0.9220907297830374, 0.8964497041420119, 0.7317554240631164, 0.8668639053254438, 0.9181459566074951, 0.9003944773175542, 0.9092702169625246, 0.7317554240631164, 0.9181459566074951, 0.9033530571992111, 0.8856015779092702, 0.9053254437869822, 0.7416173570019723, 0.8954635108481263, 0.9102564102564102, 0.8796844181459567, 0.9398422090729782, 0.9043392504930966, 0.8885601577909271, 0.9299802761341223, 0.9358974358974358]}, {\"categories\": [\"0\", \"2\", \"4\", \"8\", \"10\", \"15\", \"17\", \"20\", \"21\", \"22\", \"23\", \"25\", \"26\", \"27\", \"28\", \"29\", \"30\", \"31\", \"32\", \"33\", \"34\", \"35\", \"36\", \"37\", \"38\", \"39\", \"40\", \"41\", \"42\", \"44\"], \"mode\": \"lines\", \"name\": \"f1_score_micro_max\", \"stepped\": true, \"type\": \"scatter\", \"data\": [0.9329388560157791, 0.9329388560157791, 0.9329388560157791, 0.9329388560157791, 0.9329388560157791, 0.9329388560157791, 0.9329388560157791, 0.9329388560157791, 0.9329388560157791, 0.9329388560157791, 0.9329388560157791, 0.9329388560157791, 0.9329388560157791, 0.9329388560157791, 0.9329388560157791, 0.9329388560157791, 0.9329388560157791, 0.9329388560157791, 0.9329388560157791, 0.9329388560157791, 0.9329388560157791, 0.9329388560157791, 0.9329388560157791, 0.9329388560157791, 0.9329388560157791, 0.9398422090729782, 0.9398422090729782, 0.9398422090729782, 0.9398422090729782, 0.9398422090729782]}], \"recall_score_macro\": [{\"categories\": [\"0\", \"2\", \"4\", \"8\", \"10\", \"15\", \"17\", \"20\", \"21\", \"22\", \"23\", \"25\", \"26\", \"27\", \"28\", \"29\", \"30\", \"31\", \"32\", \"33\", \"34\", \"35\", \"36\", \"37\", \"38\", \"39\", \"40\", \"41\", \"42\", \"44\"], \"mode\": \"markers\", \"name\": \"recall_score_macro\", \"stepped\": false, \"type\": \"scatter\", \"data\": [0.909136102981634, 0.8603691795884637, 0.8378061017627978, 0.9010549160562258, 0.8498442911472971, 0.8113752006896616, 0.8889541337069188, 0.8654839334453811, 0.8823848077118527, 0.8935773259883968, 0.8713342917294901, 0.5, 0.8071093514347423, 0.8944726541557507, 0.8545877527689655, 0.8750053892444306, 0.5, 0.8901300670277513, 0.8729206006948248, 0.8237709601931918, 0.8781631022702007, 0.5172982815522932, 0.8280724669796512, 0.8868028450871588, 0.8393664614379057, 0.9158092190170191, 0.885091207571692, 0.8488612665497683, 0.901594629809189, 0.9090717226072794]}, {\"categories\": [\"0\", \"2\", \"4\", \"8\", \"10\", \"15\", \"17\", \"20\", \"21\", \"22\", \"23\", \"25\", \"26\", \"27\", \"28\", \"29\", \"30\", \"31\", \"32\", \"33\", \"34\", \"35\", \"36\", \"37\", \"38\", \"39\", \"40\", \"41\", \"42\", \"44\"], \"mode\": \"lines\", \"name\": \"recall_score_macro_max\", \"stepped\": true, \"type\": \"scatter\", \"data\": [0.909136102981634, 0.909136102981634, 0.909136102981634, 0.909136102981634, 0.909136102981634, 0.909136102981634, 0.909136102981634, 0.909136102981634, 0.909136102981634, 0.909136102981634, 0.909136102981634, 0.909136102981634, 0.909136102981634, 0.909136102981634, 0.909136102981634, 0.909136102981634, 0.909136102981634, 0.909136102981634, 0.909136102981634, 0.909136102981634, 0.909136102981634, 0.909136102981634, 0.909136102981634, 0.909136102981634, 0.909136102981634, 0.9158092190170191, 0.9158092190170191, 0.9158092190170191, 0.9158092190170191, 0.9158092190170191]}]}, \"metricName\": null, \"primaryMetricName\": \"AUC_weighted\", \"showLegend\": false}, \"run_metrics\": [], \"run_logs\": \"\", \"graph\": {}, \"widget_settings\": {\"childWidgetDisplay\": \"popup\", \"send_telemetry\": false, \"log_level\": \"INFO\", \"sdk_version\": \"1.51.0\"}, \"loading\": false}"
          },
          "metadata": {}
        }
      ],
      "execution_count": 18,
      "metadata": {
        "gather": {
          "logged": 1693587380857
        },
        "jupyter": {
          "outputs_hidden": false,
          "source_hidden": false
        },
        "nteract": {
          "transient": {
            "deleting": false
          }
        }
      }
    },
    {
      "cell_type": "code",
      "source": [
        "run_details = remote_run.get_details()\n",
        "print(run_details)"
      ],
      "outputs": [
        {
          "output_type": "stream",
          "name": "stdout",
          "text": "{'runId': 'AutoML_9d4ad407-d089-41e7-85f1-fc88df4ab866', 'target': 'notebook240923', 'status': 'Completed', 'startTimeUtc': '2023-09-01T14:55:27.517319Z', 'endTimeUtc': '2023-09-01T15:21:51.717023Z', 'services': {}, 'warnings': [{'source': 'JasmineService', 'message': 'No scores improved over last 20 iterations, so experiment stopped early. This early stopping behavior can be disabled by setting enable_early_stopping = False in AutoMLConfig for notebook/python SDK runs.'}], 'properties': {'num_iterations': '1000', 'training_type': 'TrainFull', 'acquisition_function': 'EI', 'primary_metric': 'AUC_weighted', 'train_split': '0', 'acquisition_parameter': '0', 'num_cross_validation': None, 'target': 'notebook240923', 'AMLSettingsJsonString': '{\"enable_early_stopping\":true,\"enable_ensembling\":true,\"enable_stack_ensembling\":true,\"ensemble_iterations\":15,\"enable_onnx_compatible_models\":false,\"save_mlflow\":true,\"max_cores_per_iteration\":-1,\"send_telemetry\":true,\"blacklist_algos\":[\"TensorFlowLinearClassifier\",\"TensorFlowDNN\"],\"whitelist_models\":null,\"compute_target\":\"notebook240923\",\"enable_dnn\":false,\"enable_code_generation\":true,\"experiment_exit_score\":null,\"experiment_timeout_minutes\":30,\"featurization\":\"auto\",\"hyperdrive_config\":null,\"grain_column_names\":null,\"is_timeseries\":false,\"iteration_timeout_minutes\":30,\"max_concurrent_iterations\":3,\"metric_operation\":\"maximize\",\"model_explainability\":true,\"n_cross_validations\":null,\"name\":\"maternal-health-automl-exp\",\"path\":\"./sample_projects/maternal-health-automl-exp\",\"primary_metric\":\"AUC_weighted\",\"region\":\"westus2\",\"resource_group\":\"aml-quickstarts-240923\",\"subscription_id\":\"d4ad7261-832d-46b2-b093-22156001df5b\",\"task_type\":\"classification\",\"validation_size\":null,\"test_size\":null,\"vm_type\":\"STANDARD_DS3_V2\",\"workspace_name\":\"quick-starts-ws-240923\",\"label_column_name\":\"HighRisk\",\"positive_label\":null,\"enable_batch_run\":true,\"dataset_id\":\"edae7be1-92d0-42fd-8328-9d2ea427a014\"}', 'DataPrepJsonString': '{\\\\\"datasets\\\\\":0,\\\\\"training_data\\\\\":{\\\\\"datasetId\\\\\":\\\\\"edae7be1-92d0-42fd-8328-9d2ea427a014\\\\\"}}', 'EnableSubsampling': 'False', 'runTemplate': 'AutoML', 'azureml.runsource': 'automl', '_aml_system_scenario_identification': 'Remote.Parent', 'ClientType': 'Browser', 'PlatformVersion': 'DPV1', 'environment_cpu_name': 'AzureML-AutoML', 'environment_cpu_label': 'prod', 'environment_gpu_name': 'AzureML-AutoML-GPU', 'environment_gpu_label': 'prod', 'root_attribution': 'automl', 'attribution': 'AutoML', 'Orchestrator': 'AutoML', 'CancelUri': 'https://westus2.api.azureml.ms/jasmine/v1.0/subscriptions/d4ad7261-832d-46b2-b093-22156001df5b/resourceGroups/aml-quickstarts-240923/providers/Microsoft.MachineLearningServices/workspaces/quick-starts-ws-240923/experiment/maternal-health-automl-exp/cancel/AutoML_9d4ad407-d089-41e7-85f1-fc88df4ab866', 'ClientSdkVersion': None, 'snapshotId': '00000000-0000-0000-0000-000000000000', 'SetupRunId': 'AutoML_9d4ad407-d089-41e7-85f1-fc88df4ab866_setup', 'SetupRunContainerId': 'dcid.AutoML_9d4ad407-d089-41e7-85f1-fc88df4ab866_setup', 'FeaturizationRunJsonPath': 'featurizer_container.json', 'FeaturizationRunId': 'AutoML_9d4ad407-d089-41e7-85f1-fc88df4ab866_featurize', 'ProblemInfoJsonString': '{\"dataset_num_categorical\": 0, \"is_sparse\": true, \"subsampling\": false, \"has_extra_col\": true, \"dataset_classes\": 2, \"dataset_features\": 108, \"dataset_samples\": 1014, \"single_frequency_class_detected\": false}', 'ModelExplainRunId': 'AutoML_9d4ad407-d089-41e7-85f1-fc88df4ab866_ModelExplain'}, 'inputDatasets': [{'dataset': {'id': 'edae7be1-92d0-42fd-8328-9d2ea427a014'}, 'consumptionDetails': {'type': 'RunInput', 'inputName': 'training_data', 'mechanism': 'Direct'}}], 'outputDatasets': [], 'logFiles': {}, 'submittedBy': 'ODL_User 240923'}\n"
        }
      ],
      "execution_count": 12,
      "metadata": {
        "gather": {
          "logged": 1693582076518
        }
      }
    },
    {
      "cell_type": "markdown",
      "source": [
        "## Best Model\n",
        "\n",
        "TODO: In the cell below, get the best model from the automl experiments and display all the properties of the model.\n",
        "\n"
      ],
      "metadata": {}
    },
    {
      "cell_type": "code",
      "source": [
        "auto_job, best_auto_model = remote_run.get_output()\n",
        "print(auto_job)\n",
        "print(best_auto_model)"
      ],
      "outputs": [
        {
          "output_type": "stream",
          "name": "stderr",
          "text": "WARNING:root:The version of the SDK does not match the version the model was trained on.\nWARNING:root:The consistency in the result may not be guaranteed.\nWARNING:root:Package:azureml-automl-core, training version:1.52.0.post1, current version:1.51.0.post1\nPackage:azureml-automl-runtime, training version:1.52.0.post1, current version:1.51.0.post1\nPackage:azureml-core, training version:1.52.0, current version:1.51.0\nPackage:azureml-dataprep, training version:4.11.4, current version:4.10.8\nPackage:azureml-dataprep-rslex, training version:2.18.4, current version:2.17.12\nPackage:azureml-dataset-runtime, training version:1.52.0, current version:1.51.0\nPackage:azureml-defaults, training version:1.52.0, current version:1.51.0\nPackage:azureml-interpret, training version:1.52.0, current version:1.51.0\nPackage:azureml-mlflow, training version:1.52.0, current version:1.51.0\nPackage:azureml-pipeline-core, training version:1.52.0, current version:1.51.0\nPackage:azureml-responsibleai, training version:1.52.0, current version:1.51.0\nPackage:azureml-telemetry, training version:1.52.0, current version:1.51.0\nPackage:azureml-train-automl-client, training version:1.52.0, current version:1.51.0.post1\nPackage:azureml-train-automl-runtime, training version:1.52.0, current version:1.51.0.post2\nPackage:azureml-train-core, training version:1.52.0, current version:1.51.0\nPackage:azureml-train-restclients-hyperdrive, training version:1.52.0, current version:1.51.0\nPackage:azureml-training-tabular, training version:1.52.0, current version:1.51.0.post1\nWARNING:root:Please ensure the version of your local conda dependencies match the version on which your model was trained in order to properly retrieve your model.\n"
        },
        {
          "output_type": "stream",
          "name": "stdout",
          "text": "Run(Experiment: maternal-health-automl-exp,\nId: AutoML_9d4ad407-d089-41e7-85f1-fc88df4ab866_44,\nType: azureml.scriptrun,\nStatus: Completed)\nPipeline(memory=None,\n         steps=[('datatransformer',\n                 DataTransformer(enable_dnn=False, enable_feature_sweeping=False, feature_sweeping_config={}, feature_sweeping_timeout=86400, featurization_config=None, force_text_dnn=False, is_cross_validation=True, is_onnx_compatible=False, observer=None, task='classification', working_dir='/mnt/batch/tasks/shared/LS_root/moun...\n                 PreFittedSoftVotingClassifier(classification_labels=array([0, 1]), estimators=[('14', Pipeline(memory=None, steps=[('standardscalerwrapper', StandardScalerWrapper(copy=True, with_mean=False, with_std=False)), ('randomforestclassifier', RandomForestClassifier(bootstrap=True, ccp_alpha=0.0, class_weight=None, criterion='gini', max_depth=None, max_features='auto', max_leaf_nodes=None, max_samples=None, min_impurity_decrease=0.0, min_impurity_split=None, min_samples_leaf=1, min_samples_split=2, min_weight_fraction_leaf=0.0, n_estimators=100, n_jobs=-1, oob_score=False, random_state=None, verbose=0, warm_start=False))], verbose=False)), ('1', Pipeline(memory=None, steps=[('maxabsscaler', MaxAbsScaler(copy=True)), ('xgboostclassifier', XGBoostClassifier(n_jobs=0, problem_info=ProblemInfo(gpu_training_param_dict={'processing_unit_type': 'cpu'}), random_state=0, tree_method='auto'))], verbose=False)), ('0', Pipeline(memory=None, steps=[('maxabsscaler', MaxAbsScaler(copy=True)), ('lightgbmclassifier', LightGBMClassifier(min_data_in_leaf=20, n_jobs=-1, problem_info=ProblemInfo(gpu_training_param_dict={'processing_unit_type': 'cpu'}), random_state=None))], verbose=False)), ('39', Pipeline(memory=None, steps=[('sparsenormalizer', Normalizer(copy=True, norm='l1')), ('xgboostclassifier', XGBoostClassifier(booster='gbtree', colsample_bytree=0.9, eta=0.2, gamma=0, max_depth=6, max_leaves=3, n_estimators=600, n_jobs=0, objective='reg:logistic', problem_info=ProblemInfo(gpu_training_param_dict={'processing_unit_type': 'cpu'}), random_state=0, reg_alpha=2.3958333333333335, reg_lambda=1.9791666666666667, subsample=0.9, tree_method='auto'))], verbose=False)), ('42', Pipeline(memory=None, steps=[('standardscalerwrapper', StandardScalerWrapper(copy=True, with_mean=False, with_std=False)), ('xgboostclassifier', XGBoostClassifier(booster='gbtree', colsample_bytree=1, eta=0.2, gamma=0.01, max_depth=5, max_leaves=0, n_estimators=100, n_jobs=0, objective='reg:logistic', problem_info=ProblemInfo(gpu_training_param_dict={'processing_unit_type': 'cpu'}), random_state=0, reg_alpha=0, reg_lambda=0.9375, subsample=0.5, tree_method='auto'))], verbose=False)), ('33', Pipeline(memory=None, steps=[('maxabsscaler', MaxAbsScaler(copy=True)), ('lightgbmclassifier', LightGBMClassifier(boosting_type='gbdt', colsample_bytree=0.1, learning_rate=0.04737368421052632, max_bin=100, max_depth=5, min_child_weight=9, min_data_in_leaf=0.003457931034482759, min_split_gain=0.7368421052631579, n_estimators=200, n_jobs=-1, num_leaves=194, problem_info=ProblemInfo(gpu_training_param_dict={'processing_unit_type': 'cpu'}), random_state=None, reg_alpha=0.7368421052631579, reg_lambda=1, subsample=0.5447368421052632))], verbose=False)), ('11', Pipeline(memory=None, steps=[('maxabsscaler', MaxAbsScaler(copy=True)), ('extratreesclassifier', ExtraTreesClassifier(bootstrap=False, ccp_alpha=0.0, class_weight='balanced', criterion='entropy', max_depth=None, max_features='log2', max_leaf_nodes=None, max_samples=None, min_impurity_decrease=0.0, min_impurity_split=None, min_samples_leaf=0.01, min_samples_split=0.01, min_weight_fraction_leaf=0.0, n_estimators=400, n_jobs=-1, oob_score=False, random_state=None, verbose=0, warm_start=False))], verbose=False))], flatten_transform=None, weights=[0.25, 0.125, 0.125, 0.125, 0.125, 0.125, 0.125]))],\n         verbose=False)\n"
        }
      ],
      "execution_count": 13,
      "metadata": {
        "gather": {
          "logged": 1693582096513
        },
        "jupyter": {
          "outputs_hidden": false,
          "source_hidden": false
        },
        "nteract": {
          "transient": {
            "deleting": false
          }
        }
      }
    },
    {
      "cell_type": "code",
      "source": [
        "import joblib\n",
        "\n",
        "# Save the best model\n",
        "joblib.dump(value=best_auto_model, filename='auto_model.joblib')"
      ],
      "outputs": [
        {
          "output_type": "execute_result",
          "execution_count": 14,
          "data": {
            "text/plain": "['auto_model.joblib']"
          },
          "metadata": {}
        }
      ],
      "execution_count": 14,
      "metadata": {
        "gather": {
          "logged": 1693582108919
        },
        "jupyter": {
          "outputs_hidden": false,
          "source_hidden": false
        },
        "nteract": {
          "transient": {
            "deleting": false
          }
        }
      }
    },
    {
      "cell_type": "markdown",
      "source": [
        "## Model Deployment\n",
        "\n",
        "Remember you have to deploy only one of the two models you trained but you still need to register both the models. Perform the steps in the rest of this notebook only if you wish to deploy this model.\n",
        "\n",
        "TODO: In the cell below, register the model, create an inference config and deploy the model as a web service."
      ],
      "metadata": {}
    },
    {
      "cell_type": "code",
      "source": [
        "model = auto_job.register_model(model_name='best-automl-model',\n",
        "                                      model_path='outputs/model.pkl',\n",
        "                                      description='Best model from AutoML for maternal health risk')"
      ],
      "outputs": [],
      "execution_count": 20,
      "metadata": {
        "gather": {
          "logged": 1693582218583
        },
        "jupyter": {
          "outputs_hidden": false,
          "source_hidden": false
        },
        "nteract": {
          "transient": {
            "deleting": false
          }
        }
      }
    },
    {
      "cell_type": "markdown",
      "source": [
        "TODO: In the cell below, send a request to the web service you deployed to test it."
      ],
      "metadata": {
        "gather": {
          "logged": 1598431657736
        },
        "jupyter": {
          "outputs_hidden": false,
          "source_hidden": false
        },
        "nteract": {
          "transient": {
            "deleting": false
          }
        }
      }
    },
    {
      "cell_type": "code",
      "source": [
        "auto_job.download_files(output_directory='automl_output')\n",
        "\n",
        "env = Environment.from_conda_specification('automl-env', 'conda_dependencies.yml')\n",
        "\n",
        "inference = InferenceConfig(environment=env, entry_script='./Score2.py')\n",
        "\n",
        "deployment = AciWebservice.deploy_configuration(cpu_cores=1,\n",
        "                                                       memory_gb=1,\n",
        "                                                       enable_app_insights=True)\n",
        "\n",
        "deployment_name = 'auto-maternal-risk'\n",
        "service = Model.deploy(workspace=ws,\n",
        "                       name=deployment_name,\n",
        "                       models=[model],\n",
        "                       inference_config=inference,\n",
        "                       deployment_config=deployment,\n",
        "                       overwrite=True)\n",
        "service.wait_for_deployment(show_output=True)"
      ],
      "outputs": [
        {
          "output_type": "stream",
          "name": "stdout",
          "text": "Tips: You can try get_logs(): https://aka.ms/debugimage#dockerlog or local deployment: https://aka.ms/debugimage#debug-locally to debug if deployment takes longer than 10 minutes.\nRunning\n2023-09-01 15:32:47+00:00 Creating Container Registry if not exists.\n2023-09-01 15:32:47+00:00 Registering the environment.\n2023-09-01 15:32:48+00:00 Building image..\n2023-09-01 15:43:14+00:00 Generating deployment configuration.\n2023-09-01 15:43:15+00:00 Submitting deployment to compute..\n2023-09-01 15:43:20+00:00 Checking the status of deployment auto-maternal-risk..\n2023-09-01 15:45:16+00:00 Checking the status of inference endpoint auto-maternal-risk.\nSucceeded\nACI service creation operation finished, operation \"Succeeded\"\n"
        }
      ],
      "execution_count": 21,
      "metadata": {
        "gather": {
          "logged": 1693583142857
        },
        "jupyter": {
          "outputs_hidden": false,
          "source_hidden": false
        },
        "nteract": {
          "transient": {
            "deleting": false
          }
        }
      }
    },
    {
      "cell_type": "markdown",
      "source": [
        "TODO: In the cell below, print the logs of the web service and delete the service"
      ],
      "metadata": {
        "gather": {
          "logged": 1598432765711
        },
        "jupyter": {
          "outputs_hidden": false,
          "source_hidden": false
        },
        "nteract": {
          "transient": {
            "deleting": false
          }
        }
      }
    },
    {
      "cell_type": "code",
      "source": [
        "import urllib.request\n",
        "import json\n",
        "import os\n",
        "import ssl\n",
        "\n",
        "def allowSelfSignedHttps(allowed):\n",
        "    # bypass the server certificate verification on client side\n",
        "    if allowed and not os.environ.get('PYTHONHTTPSVERIFY', '') and getattr(ssl, '_create_unverified_context', None):\n",
        "        ssl._create_default_https_context = ssl._create_unverified_context\n",
        "\n",
        "allowSelfSignedHttps(True) # this line is needed if you use self-signed certificate in your scoring service.\n",
        "\n",
        "# Request data goes here\n",
        "# The example below assumes JSON formatting which may be updated\n",
        "# depending on the format your endpoint expects.\n",
        "# More information can be found here:\n",
        "# https://docs.microsoft.com/azure/machine-learning/how-to-deploy-advanced-entry-script\n",
        "data =  {\n",
        "  \"data\": [\n",
        "    {\n",
        "      \"Age\": 0,\n",
        "      \"SystolicBP\": 0,\n",
        "      \"DiastolicBP\": 0,\n",
        "      \"BS\": 15.0,\n",
        "      \"BodyTemp\": 0,\n",
        "      \"HeartRate\": 0\n",
        "    }\n",
        "  ]\n",
        "}\n",
        "\n",
        "body = str.encode(json.dumps(data))\n",
        "\n",
        "url = 'http://17d79f0f-0926-4a48-b0a7-5e054aaa6758.westus2.azurecontainer.io/score'\n",
        "\n",
        "\n",
        "headers = {'Content-Type':'application/json'}\n",
        "\n",
        "req = urllib.request.Request(url, body, headers)\n",
        "\n",
        "try:\n",
        "    response = urllib.request.urlopen(req)\n",
        "\n",
        "    result = response.read()\n",
        "    print(result)\n",
        "except urllib.error.HTTPError as error:\n",
        "    print(\"The request failed with status code: \" + str(error.code))\n",
        "\n",
        "    # Print the headers - they include the requert ID and the timestamp, which are useful for debugging the failure\n",
        "    print(error.info())\n",
        "    print(error.read().decode(\"utf8\", 'ignore'))"
      ],
      "outputs": [
        {
          "output_type": "stream",
          "name": "stdout",
          "text": "b'\"{\\\\\"result\\\\\": [1]}\"'\n"
        }
      ],
      "execution_count": 8,
      "metadata": {
        "jupyter": {
          "source_hidden": false,
          "outputs_hidden": false
        },
        "nteract": {
          "transient": {
            "deleting": false
          }
        },
        "gather": {
          "logged": 1693586271146
        }
      }
    },
    {
      "cell_type": "code",
      "source": [
        "logs = service.get_logs()\n",
        "for line in logs.split('\\n'):\n",
        "    print(line)"
      ],
      "outputs": [
        {
          "output_type": "stream",
          "name": "stdout",
          "text": "/bin/bash: /azureml-envs/azureml_d23c40ccd7225ebe3e23cbbc514bfe04/lib/libtinfo.so.6: no version information available (required by /bin/bash)\n/bin/bash: /azureml-envs/azureml_d23c40ccd7225ebe3e23cbbc514bfe04/lib/libtinfo.so.6: no version information available (required by /bin/bash)\n/bin/bash: /azureml-envs/azureml_d23c40ccd7225ebe3e23cbbc514bfe04/lib/libtinfo.so.6: no version information available (required by /bin/bash)\n2023-09-01T15:45:07,541968100+00:00 - rsyslog/run \n2023-09-01T15:45:07,551178400+00:00 - gunicorn/run \n2023-09-01T15:45:07,552636700+00:00 | gunicorn/run | \nbash: /azureml-envs/azureml_d23c40ccd7225ebe3e23cbbc514bfe04/lib/libtinfo.so.6: no version information available (required by bash)\n2023-09-01T15:45:07,560477600+00:00 | gunicorn/run | ###############################################\n2023-09-01T15:45:07,562534500+00:00 | gunicorn/run | AzureML Container Runtime Information\n2023-09-01T15:45:07,568880100+00:00 | gunicorn/run | ###############################################\n2023-09-01T15:45:07,570640900+00:00 | gunicorn/run | \n2023-09-01T15:45:07,572596400+00:00 | gunicorn/run | \n2023-09-01T15:45:07,592756100+00:00 | gunicorn/run | AzureML image information: openmpi4.1.0-ubuntu20.04, Materializaton Build:20230509.v1\n2023-09-01T15:45:07,598442100+00:00 | gunicorn/run | \n2023-09-01T15:45:07,600804700+00:00 - nginx/run \n2023-09-01T15:45:07,601618900+00:00 | gunicorn/run | \n2023-09-01T15:45:07,609572800+00:00 | gunicorn/run | PATH environment variable: /azureml-envs/azureml_d23c40ccd7225ebe3e23cbbc514bfe04/bin:/opt/miniconda/bin:/usr/local/sbin:/usr/local/bin:/usr/sbin:/usr/bin:/sbin:/bin\n2023-09-01T15:45:07,611364100+00:00 | gunicorn/run | PYTHONPATH environment variable: \n2023-09-01T15:45:07,617421400+00:00 | gunicorn/run | \n2023-09-01T15:45:09,378593200+00:00 | gunicorn/run | CONDAPATH environment variable: /opt/miniconda\n\n# conda environments:\n#\n                      *  /azureml-envs/azureml_d23c40ccd7225ebe3e23cbbc514bfe04\nbase                     /opt/miniconda\n\n2023-09-01T15:45:11,774713048+00:00 | gunicorn/run | \n2023-09-01T15:45:11,779576439+00:00 | gunicorn/run | Pip Dependencies (before dynamic installation)\n\nadal==1.2.7\nappdirs==1.4.4\napplicationinsights==0.11.10\narch==5.3.1\nargcomplete==2.1.2\nattrs==23.1.0\nazure-common==1.1.28\nazure-core==1.29.3\nazure-graphrbac==0.61.1\nazure-identity==1.14.0\nazure-mgmt-authorization==3.0.0\nazure-mgmt-containerregistry==10.1.0\nazure-mgmt-core==1.4.0\nazure-mgmt-keyvault==10.2.3\nazure-mgmt-network==21.0.1\nazure-mgmt-resource==22.0.0\nazure-mgmt-storage==21.0.0\nazureml-automl-core==1.53.0\nazureml-automl-runtime==1.53.0.post1\nazureml-core==1.53.0\nazureml-dataprep==4.12.1\nazureml-dataprep-native==38.0.0\nazureml-dataprep-rslex==2.19.1\nazureml-dataset-runtime==1.53.0\nazureml-defaults==1.53.0\nazureml-inference-server-http==0.8.4.1\nazureml-interpret==1.53.0\nazureml-telemetry==1.53.0\nazureml-training-tabular==1.53.0.post1\nbackports.tempfile==1.0\nbackports.weakref==1.0.post1\nbcrypt==4.0.1\nBoruta==0.3\nboto==2.49.0\nboto3==1.20.19\nbotocore==1.23.19\nBottleneck @ file:///opt/conda/conda-bld/bottleneck_1657175564434/work\nbrotlipy==0.7.0\ncachetools==5.3.1\ncertifi @ file:///croot/certifi_1690232220950/work/certifi\ncffi @ file:///croot/cffi_1670423208954/work\ncharset-normalizer @ file:///tmp/build/80754af9/charset-normalizer_1630003229654/work\nclick==8.1.7\ncloudpickle==2.2.1\ncoloredlogs==15.0.1\ncontextlib2==21.6.0\ncontourpy==1.1.0\ncryptography @ file:///croot/cryptography_1689373676338/work\ncycler==0.11.0\nCython==0.29.17\ndataclasses==0.6\ndill==0.3.7\ndistro==1.8.0\ndocker==6.1.3\ndotnetcore2==3.1.23\nfire==0.5.0\nFlask==2.2.5\nFlask-Cors==3.0.10\nflatbuffers==23.5.26\nfonttools==4.42.1\nfusepy==3.0.1\ngensim==3.8.3\ngoogle-api-core==2.11.1\ngoogle-auth==2.22.0\ngoogleapis-common-protos==1.60.0\ngunicorn==20.1.0\nhumanfriendly==10.0\nidna @ file:///croot/idna_1666125576474/work\nimportlib-metadata==6.8.0\nimportlib-resources==6.0.1\ninference-schema==1.5.1\ninterpret-community==0.29.0\ninterpret-core==0.3.2\nisodate==0.6.1\nitsdangerous==2.1.2\njeepney==0.8.0\nJinja2==3.1.2\njmespath==0.10.0\njoblib @ file:///croot/joblib_1685113087166/work\njsonpickle==3.0.2\njsonschema==4.19.0\njsonschema-specifications==2023.7.1\nkeras2onnx==1.6.0\nkiwisolver==1.4.5\nknack==0.10.1\nlightgbm==3.2.1\nlittleutils==0.2.2\nllvmlite==0.38.1\nMarkupSafe==2.1.3\nmatplotlib==3.7.2\nmkl-fft==1.3.6\nmkl-random @ file:///work/mkl/mkl_random_1682950433854/work\nmkl-service==2.4.0\nml-wrappers==0.4.13\nmpmath==1.3.0\nmsal==1.23.0\nmsal-extensions==1.0.0\nmsrest==0.7.1\nmsrestazure==0.6.4\nndg-httpsclient==0.5.1\nnumba==0.55.2\nnumexpr @ file:///croot/numexpr_1683221822650/work\nnumpy==1.22.3\noauthlib==3.2.2\nonnx==1.14.1\nonnxconverter-common==1.13.0\nonnxmltools==1.11.2\nonnxruntime==1.14.1\nopencensus==0.11.2\nopencensus-context==0.1.3\nopencensus-ext-azure==1.1.9\noutdated==0.2.2\npackaging==23.0\npandas==1.1.5\npandas-flavor==0.6.0\nparamiko==3.3.1\npathspec==0.11.2\npatsy==0.5.3\nPillow==10.0.0\npingouin==0.3.12\npkginfo==1.9.6\npkgutil_resolve_name==1.3.10\npmdarima==1.8.0\npooch @ file:///tmp/build/80754af9/pooch_1623324770023/work\nportalocker==2.7.0\nproperty-cached==1.6.4\nprotobuf==3.20.3\npsutil==5.9.5\npyarrow==11.0.0\npyasn1==0.5.0\npyasn1-modules==0.3.0\npycparser @ file:///tmp/build/80754af9/pycparser_1636541352034/work\npydantic==1.10.12\nPygments==2.16.1\nPyJWT==2.8.0\nPyNaCl==1.5.0\npyOpenSSL @ file:///croot/pyopenssl_1690223430423/work\npyparsing==3.0.9\nPySocks @ file:///tmp/build/80754af9/pysocks_1605305779399/work\npython-dateutil @ file:///tmp/build/80754af9/python-dateutil_1626374649649/work\npytz @ file:///croot/pytz_1671697431263/work\nPyYAML==6.0.1\nraiutils==0.4.1\nreferencing==0.30.2\nrequests @ file:///croot/requests_1690400202158/work\nrequests-oauthlib==1.3.1\nrpds-py==0.10.0\nrsa==4.9\ns3transfer==0.5.2\nscikit-learn==1.1.0\nscipy==1.5.3\nseaborn==0.12.2\nSecretStorage==3.3.3\nshap==0.41.0\nsix @ file:///tmp/build/80754af9/six_1644875935023/work\nskl2onnx==1.14.1\nsklearn-pandas==1.7.0\nslicer==0.0.7\nsmart-open==1.9.0\nstatsmodels==0.11.1\nsympy==1.12\ntabulate==0.9.0\ntermcolor==2.3.0\nthreadpoolctl @ file:///Users/ktietz/demo/mc3/conda-bld/threadpoolctl_1629802263681/work\ntqdm==4.66.1\ntyping_extensions==4.7.1\ntzdata @ file:///croot/python-tzdata_1690578112552/work\nurllib3 @ file:///croot/urllib3_1686163155763/work\nwebsocket-client==1.6.2\nWerkzeug==2.3.7\nwrapt==1.12.1\nxarray==2022.3.0\nxgboost==1.4.2\nzipp==3.16.2\n\n2023-09-01T15:45:13,628858825+00:00 | gunicorn/run | \n2023-09-01T15:45:13,631132625+00:00 | gunicorn/run | ###############################################\n2023-09-01T15:45:13,639232425+00:00 | gunicorn/run | Checking if the Python package azureml-inference-server-http is installed\n2023-09-01T15:45:13,641520825+00:00 | gunicorn/run | ###############################################\n2023-09-01T15:45:13,647086025+00:00 | gunicorn/run | \n2023-09-01T15:45:16,722374925+00:00 | gunicorn/run | \n2023-09-01T15:45:16,725957425+00:00 | gunicorn/run | ###############################################\n2023-09-01T15:45:16,732369825+00:00 | gunicorn/run | AzureML Inference Server\n2023-09-01T15:45:16,735465025+00:00 | gunicorn/run | ###############################################\n2023-09-01T15:45:16,737456625+00:00 | gunicorn/run | \n2023-09-01T15:45:19,972889968+00:00 | gunicorn/run | Starting AzureML Inference Server HTTP.\n2023-09-01 15:45:20,435 I [75] azmlinfsrv - Loaded logging config from /azureml-envs/azureml_d23c40ccd7225ebe3e23cbbc514bfe04/lib/python3.8/site-packages/azureml_inference_server_http/logging.json\n2023-09-01 15:45:20,728 I [75] gunicorn.error - Starting gunicorn 20.1.0\n2023-09-01 15:45:20,729 I [75] gunicorn.error - Listening at: http://0.0.0.0:31311 (75)\n2023-09-01 15:45:20,729 I [75] gunicorn.error - Using worker: sync\n2023-09-01 15:45:20,748 I [146] gunicorn.error - Booting worker with pid: 146\nValid Application Insights instrumentation key provided.\n\nAzure ML Inferencing HTTP server v0.8.4.1\n\n\nServer Settings\n---------------\nEntry Script Name: /var/azureml-app/Score2.py\nModel Directory: /var/azureml-app/azureml-models/best-automl-model/2\nConfig File: None\nWorker Count: 1\nWorker Timeout (seconds): 300\nServer Port: 31311\nHealth Port: 31311\nApplication Insights Enabled: true\nApplication Insights Key: AppInsights key provided\nInferencing HTTP server version: azmlinfsrv/0.8.4.1\nCORS for the specified origins: None\nCreate dedicated endpoint for health: None\n\n\nServer Routes\n---------------\nLiveness Probe: GET   127.0.0.1:31311/\nScore:          POST  127.0.0.1:31311/score\n\n2023-09-01 15:45:21,832 I [146] azmlinfsrv - AML_FLASK_ONE_COMPATIBILITY is set. Patched Flask to ensure compatibility with Flask 1.\nInitializing logger\n2023-09-01 15:45:21,837 I [146] azmlinfsrv - Starting up app insights client\nWARNING:opencensus.ext.azure.common:DeprecationWarning: Explicitly using instrumentation key isdeprecated. Please use a connection string instead.\nWARNING:opencensus.ext.azure.common:DeprecationWarning: Explicitly using instrumentation key isdeprecated. Please use a connection string instead.\nWARNING:opencensus.ext.azure.common:DeprecationWarning: Explicitly using instrumentation key isdeprecated. Please use a connection string instead.\n2023-09-01 15:45:28,311 I [146] azmlinfsrv.user_script - Found user script at /var/azureml-app/Score2.py\n2023-09-01 15:45:28,311 I [146] azmlinfsrv.user_script - run() is decorated with @input_schema. Server will invoke it with the following arguments: data.\n2023-09-01 15:45:28,311 I [146] azmlinfsrv.user_script - Invoking user's init function\n2023-09-01 15:45:39,844 I [146] azmlinfsrv.user_script - Users's init has completed successfully\n2023-09-01 15:45:39,924 I [146] azmlinfsrv.swagger - Swaggers are prepared for the following versions: [2, 3, 3.1].\n2023-09-01 15:45:39,924 I [146] azmlinfsrv - Scoring timeout is set to 60000\n2023-09-01 15:45:39,924 I [146] azmlinfsrv - Worker with pid 146 ready for serving traffic\n2023-09-01 15:45:39,934 I [146] gunicorn.access - 127.0.0.1 - - [01/Sep/2023:15:45:39 +0000] \"GET / HTTP/1.0\" 200 7 \"-\" \"curl/7.58.0\"\n2023-09-01 15:45:39,936 W [146] azmlinfsrv - x-ms-request-id header has been deprecated and will be removed from future versions of the server. Please use x-ms-client-request-id.\n2023-09-01 15:45:39,943 I [146] gunicorn.access - 127.0.0.1 - - [01/Sep/2023:15:45:39 +0000] \"GET / HTTP/1.0\" 200 7 \"-\" \"Go-http-client/1.1\"\n2023-09-01 15:45:39,944 W [146] azmlinfsrv - x-ms-request-id header has been deprecated and will be removed from future versions of the server. Please use x-ms-client-request-id.\n2023-09-01 15:45:39,945 I [146] azmlinfsrv - GET /swagger.json 200 0.876ms 2901\n2023-09-01 15:45:39,948 I [146] gunicorn.access - 127.0.0.1 - - [01/Sep/2023:15:45:39 +0000] \"GET /swagger.json HTTP/1.0\" 200 2901 \"-\" \"Go-http-client/1.1\"\n2023-09-01 15:45:41,920 W [146] azmlinfsrv - x-ms-request-id header has been deprecated and will be removed from future versions of the server. Please use x-ms-client-request-id.\n2023-09-01 15:45:41,922 I [146] gunicorn.access - 127.0.0.1 - - [01/Sep/2023:15:45:41 +0000] \"GET / HTTP/1.0\" 200 7 \"-\" \"Go-http-client/1.1\"\n2023-09-01 15:45:41,928 W [146] azmlinfsrv - x-ms-request-id header has been deprecated and will be removed from future versions of the server. Please use x-ms-client-request-id.\n2023-09-01 15:45:41,929 I [146] azmlinfsrv - GET /swagger.json 200 0.885ms 2901\n2023-09-01 15:45:41,930 I [146] gunicorn.access - 127.0.0.1 - - [01/Sep/2023:15:45:41 +0000] \"GET /swagger.json HTTP/1.0\" 200 2901 \"-\" \"Go-http-client/1.1\"\n2023-09-01 15:46:19,436 W [146] azmlinfsrv - x-ms-request-id header has been deprecated and will be removed from future versions of the server. Please use x-ms-client-request-id.\n2023-09-01 15:46:19,437 I [146] gunicorn.access - 127.0.0.1 - - [01/Sep/2023:15:46:19 +0000] \"GET / HTTP/1.0\" 200 7 \"-\" \"Go-http-client/1.1\"\n2023-09-01 15:46:19,448 W [146] azmlinfsrv - x-ms-request-id header has been deprecated and will be removed from future versions of the server. Please use x-ms-client-request-id.\n2023-09-01 15:46:19,448 I [146] azmlinfsrv - GET /swagger.json 200 0.565ms 2901\n2023-09-01 15:46:19,450 I [146] gunicorn.access - 127.0.0.1 - - [01/Sep/2023:15:46:19 +0000] \"GET /swagger.json HTTP/1.0\" 200 2901 \"-\" \"Go-http-client/1.1\"\n2023-09-01 15:46:29,252 W [146] azmlinfsrv - x-ms-request-id header has been deprecated and will be removed from future versions of the server. Please use x-ms-client-request-id.\n2023-09-01 15:46:29,252 I [146] azmlinfsrv - GET /swagger.json 200 0.743ms 2901\n2023-09-01 15:46:29,254 I [146] gunicorn.access - 127.0.0.1 - - [01/Sep/2023:15:46:29 +0000] \"GET /swagger.json HTTP/1.0\" 200 2901 \"-\" \"Go-http-client/1.1\"\n2023-09-01 15:46:49,191 W [146] azmlinfsrv - x-ms-request-id header has been deprecated and will be removed from future versions of the server. Please use x-ms-client-request-id.\n2023-09-01 15:46:49,904 I [146] azmlinfsrv - POST /score 200 714.067ms 19\n2023-09-01 15:46:49,907 I [146] gunicorn.access - 127.0.0.1 - - [01/Sep/2023:15:46:49 +0000] \"POST /score HTTP/1.0\" 200 19 \"-\" \"Python-urllib/3.8\"\n2023-09-01 15:47:02,635 W [146] azmlinfsrv - x-ms-request-id header has been deprecated and will be removed from future versions of the server. Please use x-ms-client-request-id.\n2023-09-01 15:47:03,318 I [146] azmlinfsrv - POST /score 200 683.461ms 19\n2023-09-01 15:47:03,320 I [146] gunicorn.access - 127.0.0.1 - - [01/Sep/2023:15:47:03 +0000] \"POST /score HTTP/1.0\" 200 19 \"-\" \"python-requests/2.31.0\"\n\n"
        }
      ],
      "execution_count": 24,
      "metadata": {
        "gather": {
          "logged": 1693583249099
        }
      }
    },
    {
      "cell_type": "code",
      "source": [
        "# Delete the Webservice and Compute Cluster\n",
        "service.delete()\n",
        "compute_target.delete()"
      ],
      "outputs": [],
      "execution_count": null,
      "metadata": {}
    },
    {
      "cell_type": "markdown",
      "source": [
        "**Submission Checklist**\n",
        "- I have registered the model.\n",
        "- I have deployed the model with the best accuracy as a webservice.\n",
        "- I have tested the webservice by sending a request to the model endpoint.\n",
        "- I have deleted the webservice and shutdown all the computes that I have used.\n",
        "- I have taken a screenshot showing the model endpoint as active.\n",
        "- The project includes a file containing the environment details.\n"
      ],
      "metadata": {}
    },
    {
      "cell_type": "markdown",
      "source": [],
      "metadata": {}
    }
  ],
  "metadata": {
    "kernel_info": {
      "name": "python38-azureml"
    },
    "kernelspec": {
      "name": "python38-azureml",
      "language": "python",
      "display_name": "Python 3.8 - AzureML"
    },
    "language_info": {
      "name": "python",
      "version": "3.8.5",
      "mimetype": "text/x-python",
      "codemirror_mode": {
        "name": "ipython",
        "version": 3
      },
      "pygments_lexer": "ipython3",
      "nbconvert_exporter": "python",
      "file_extension": ".py"
    },
    "nteract": {
      "version": "nteract-front-end@1.0.0"
    },
    "microsoft": {
      "ms_spell_check": {
        "ms_spell_check_language": "en"
      },
      "host": {
        "AzureML": {
          "notebookHasBeenCompleted": true
        }
      }
    }
  },
  "nbformat": 4,
  "nbformat_minor": 4
}